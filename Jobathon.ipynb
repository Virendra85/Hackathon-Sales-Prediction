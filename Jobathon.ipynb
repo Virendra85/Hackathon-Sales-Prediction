{
 "cells": [
  {
   "cell_type": "markdown",
   "metadata": {},
   "source": [
    "# Problem statement\n",
    "\n",
    "Our Client WOMart is a leading nutrition and supplement retail chain that offers a comprehensive range of products for all our\n",
    "wellness and fitness needs. \n",
    "\n",
    "WOMart follows a multi-channel distribution strategy with 350+ retail stores spread across 100+ cities. \n",
    "\n",
    "Effective forecasting for store sales gives essential insight into upcoming cash flow, meaning WOMart can more accurately plan\n",
    "the cashflow at the store level.\n",
    "\n",
    "Sales data for 18 months from 365 stores of WOMart is available along with information on Store Type, Location Type for each\n",
    "store, Region Code for every store, Discount provided by the store on every day, Number of Orders everyday etc.\n",
    "\n",
    "Our task is to predict the store sales for each store in the test set for the next two months."
   ]
  },
  {
   "cell_type": "markdown",
   "metadata": {},
   "source": [
    "# Table of content"
   ]
  },
  {
   "cell_type": "markdown",
   "metadata": {},
   "source": [
    "* __Step 1: Importing the Relevant Libraries__\n",
    "    \n",
    "* __Step 2: Data Inspection__\n",
    "    \n",
    "* __Step 3: Data Cleaning__\n",
    "    \n",
    "* __Step 4: Exploratory Data Analysis__\n",
    "    \n",
    "* __Step 5: Feature Engineering__\n",
    "\n",
    "* __Step 6: Building Model__\n",
    "\n",
    "* __step 7: Hyperparameter Tuning__\n",
    "\n",
    "* __step 8: Model performance__"
   ]
  },
  {
   "cell_type": "markdown",
   "metadata": {},
   "source": [
    "### Step 1: Importing the Relevant Libraries"
   ]
  },
  {
   "cell_type": "code",
   "execution_count": 1,
   "metadata": {},
   "outputs": [],
   "source": [
    "import matplotlib.pyplot as plt\n",
    "import pandas as pd\n",
    "import numpy as np\n",
    "import seaborn as sns\n",
    "\n",
    "from sklearn.model_selection import train_test_split\n",
    "from sklearn import metrics\n",
    "from sklearn.linear_model import LinearRegression\n",
    "\n",
    "import warnings\n",
    "warnings.filterwarnings('always')\n",
    "warnings.filterwarnings('ignore')"
   ]
  },
  {
   "cell_type": "markdown",
   "metadata": {},
   "source": [
    "### Step 2: Data Inspection"
   ]
  },
  {
   "cell_type": "code",
   "execution_count": 2,
   "metadata": {},
   "outputs": [],
   "source": [
    "train=pd.read_csv('C:/Users/virendra/Downloads/Class Recordings/First_Model/TRAIN.csv')\n",
    "test=pd.read_csv('C:/Users/virendra/Downloads/Class Recordings/First_Model/TEST_FINAL.csv')"
   ]
  },
  {
   "cell_type": "code",
   "execution_count": 3,
   "metadata": {},
   "outputs": [
    {
     "data": {
      "text/plain": [
       "((188340, 10), (22265, 8))"
      ]
     },
     "execution_count": 3,
     "metadata": {},
     "output_type": "execute_result"
    }
   ],
   "source": [
    "train.shape,test.shape"
   ]
  },
  {
   "cell_type": "markdown",
   "metadata": {},
   "source": [
    "* __We have 188340 rows and 10 columns in Train set whereas Test set has 22265 rows and 8 columns.__"
   ]
  },
  {
   "cell_type": "code",
   "execution_count": 4,
   "metadata": {},
   "outputs": [
    {
     "data": {
      "text/html": [
       "<div>\n",
       "<style scoped>\n",
       "    .dataframe tbody tr th:only-of-type {\n",
       "        vertical-align: middle;\n",
       "    }\n",
       "\n",
       "    .dataframe tbody tr th {\n",
       "        vertical-align: top;\n",
       "    }\n",
       "\n",
       "    .dataframe thead th {\n",
       "        text-align: right;\n",
       "    }\n",
       "</style>\n",
       "<table border=\"1\" class=\"dataframe\">\n",
       "  <thead>\n",
       "    <tr style=\"text-align: right;\">\n",
       "      <th></th>\n",
       "      <th>ID</th>\n",
       "      <th>Store_id</th>\n",
       "      <th>Store_Type</th>\n",
       "      <th>Location_Type</th>\n",
       "      <th>Region_Code</th>\n",
       "      <th>Date</th>\n",
       "      <th>Holiday</th>\n",
       "      <th>Discount</th>\n",
       "      <th>#Order</th>\n",
       "      <th>Sales</th>\n",
       "    </tr>\n",
       "  </thead>\n",
       "  <tbody>\n",
       "    <tr>\n",
       "      <th>0</th>\n",
       "      <td>T1000001</td>\n",
       "      <td>1</td>\n",
       "      <td>S1</td>\n",
       "      <td>L3</td>\n",
       "      <td>R1</td>\n",
       "      <td>2018-01-01</td>\n",
       "      <td>1</td>\n",
       "      <td>Yes</td>\n",
       "      <td>9</td>\n",
       "      <td>7011.84</td>\n",
       "    </tr>\n",
       "    <tr>\n",
       "      <th>1</th>\n",
       "      <td>T1000002</td>\n",
       "      <td>253</td>\n",
       "      <td>S4</td>\n",
       "      <td>L2</td>\n",
       "      <td>R1</td>\n",
       "      <td>2018-01-01</td>\n",
       "      <td>1</td>\n",
       "      <td>Yes</td>\n",
       "      <td>60</td>\n",
       "      <td>51789.12</td>\n",
       "    </tr>\n",
       "    <tr>\n",
       "      <th>2</th>\n",
       "      <td>T1000003</td>\n",
       "      <td>252</td>\n",
       "      <td>S3</td>\n",
       "      <td>L2</td>\n",
       "      <td>R1</td>\n",
       "      <td>2018-01-01</td>\n",
       "      <td>1</td>\n",
       "      <td>Yes</td>\n",
       "      <td>42</td>\n",
       "      <td>36868.20</td>\n",
       "    </tr>\n",
       "  </tbody>\n",
       "</table>\n",
       "</div>"
      ],
      "text/plain": [
       "         ID  Store_id Store_Type Location_Type Region_Code        Date  \\\n",
       "0  T1000001         1         S1            L3          R1  2018-01-01   \n",
       "1  T1000002       253         S4            L2          R1  2018-01-01   \n",
       "2  T1000003       252         S3            L2          R1  2018-01-01   \n",
       "\n",
       "   Holiday Discount  #Order     Sales  \n",
       "0        1      Yes       9   7011.84  \n",
       "1        1      Yes      60  51789.12  \n",
       "2        1      Yes      42  36868.20  "
      ]
     },
     "execution_count": 4,
     "metadata": {},
     "output_type": "execute_result"
    }
   ],
   "source": [
    "train.head(3)"
   ]
  },
  {
   "cell_type": "code",
   "execution_count": 5,
   "metadata": {},
   "outputs": [
    {
     "name": "stdout",
     "output_type": "stream",
     "text": [
      "<class 'pandas.core.frame.DataFrame'>\n",
      "RangeIndex: 188340 entries, 0 to 188339\n",
      "Data columns (total 10 columns):\n",
      " #   Column         Non-Null Count   Dtype  \n",
      "---  ------         --------------   -----  \n",
      " 0   ID             188340 non-null  object \n",
      " 1   Store_id       188340 non-null  int64  \n",
      " 2   Store_Type     188340 non-null  object \n",
      " 3   Location_Type  188340 non-null  object \n",
      " 4   Region_Code    188340 non-null  object \n",
      " 5   Date           188340 non-null  object \n",
      " 6   Holiday        188340 non-null  int64  \n",
      " 7   Discount       188340 non-null  object \n",
      " 8   #Order         188340 non-null  int64  \n",
      " 9   Sales          188340 non-null  float64\n",
      "dtypes: float64(1), int64(3), object(6)\n",
      "memory usage: 14.4+ MB\n"
     ]
    }
   ],
   "source": [
    "train.info()"
   ]
  },
  {
   "cell_type": "markdown",
   "metadata": {},
   "source": [
    "* __What we have:__\n",
    "    * __We have two id columns: ID and Store_id__\n",
    "    * __we have one date column: Date__\n",
    "    * __We have some categorical columns: Store_Type,Location_Type,Region_Code,Holiday,Discount__\n",
    "    * __we have two numerical columns: #Order,Sales.__"
   ]
  },
  {
   "cell_type": "code",
   "execution_count": 6,
   "metadata": {},
   "outputs": [],
   "source": [
    "train['Date']=pd.to_datetime(train['Date'])"
   ]
  },
  {
   "cell_type": "markdown",
   "metadata": {},
   "source": [
    "* __We changed the data type correctly for Store_id and Date columns in Train dataset.__"
   ]
  },
  {
   "cell_type": "code",
   "execution_count": 7,
   "metadata": {},
   "outputs": [
    {
     "name": "stdout",
     "output_type": "stream",
     "text": [
      "<class 'pandas.core.frame.DataFrame'>\n",
      "RangeIndex: 22265 entries, 0 to 22264\n",
      "Data columns (total 8 columns):\n",
      " #   Column         Non-Null Count  Dtype \n",
      "---  ------         --------------  ----- \n",
      " 0   ID             22265 non-null  object\n",
      " 1   Store_id       22265 non-null  int64 \n",
      " 2   Store_Type     22265 non-null  object\n",
      " 3   Location_Type  22265 non-null  object\n",
      " 4   Region_Code    22265 non-null  object\n",
      " 5   Date           22265 non-null  object\n",
      " 6   Holiday        22265 non-null  int64 \n",
      " 7   Discount       22265 non-null  object\n",
      "dtypes: int64(2), object(6)\n",
      "memory usage: 1.4+ MB\n"
     ]
    }
   ],
   "source": [
    "test.info()"
   ]
  },
  {
   "cell_type": "code",
   "execution_count": 8,
   "metadata": {},
   "outputs": [],
   "source": [
    "test['Date']=pd.to_datetime(train['Date'])"
   ]
  },
  {
   "cell_type": "markdown",
   "metadata": {},
   "source": [
    "* __We changed the data type correctly for Date column in Test dataset.__"
   ]
  },
  {
   "cell_type": "code",
   "execution_count": 9,
   "metadata": {},
   "outputs": [
    {
     "data": {
      "text/plain": [
       "ID               0.0\n",
       "Store_id         0.0\n",
       "Store_Type       0.0\n",
       "Location_Type    0.0\n",
       "Region_Code      0.0\n",
       "Date             0.0\n",
       "Holiday          0.0\n",
       "Discount         0.0\n",
       "#Order           0.0\n",
       "Sales            0.0\n",
       "dtype: float64"
      ]
     },
     "execution_count": 9,
     "metadata": {},
     "output_type": "execute_result"
    }
   ],
   "source": [
    "# ratio of null values\n",
    "train.isnull().sum()/train.shape[0]*100"
   ]
  },
  {
   "cell_type": "code",
   "execution_count": 10,
   "metadata": {},
   "outputs": [
    {
     "data": {
      "text/plain": [
       "ID               0.0\n",
       "Store_id         0.0\n",
       "Store_Type       0.0\n",
       "Location_Type    0.0\n",
       "Region_Code      0.0\n",
       "Date             0.0\n",
       "Holiday          0.0\n",
       "Discount         0.0\n",
       "dtype: float64"
      ]
     },
     "execution_count": 10,
     "metadata": {},
     "output_type": "execute_result"
    }
   ],
   "source": [
    "# ratio of null values\n",
    "test.isnull().sum()/test.shape[0]*100"
   ]
  },
  {
   "cell_type": "markdown",
   "metadata": {},
   "source": [
    "* __We do not have any missing value in Train set and Test set.__"
   ]
  },
  {
   "cell_type": "code",
   "execution_count": 11,
   "metadata": {},
   "outputs": [
    {
     "name": "stdout",
     "output_type": "stream",
     "text": [
      "Categorical Features in Train Set: 5\n",
      "Numerical Features in Train Set: 4\n"
     ]
    }
   ],
   "source": [
    "#categorical features\n",
    "categorical = train.select_dtypes(include =[np.object])\n",
    "print(\"Categorical Features in Train Set:\",categorical.shape[1])\n",
    "\n",
    "#numerical features\n",
    "numerical= train.select_dtypes(include =[np.float64,np.int64])\n",
    "print(\"Numerical Features in Train Set:\",numerical.shape[1])"
   ]
  },
  {
   "cell_type": "code",
   "execution_count": 12,
   "metadata": {},
   "outputs": [
    {
     "name": "stdout",
     "output_type": "stream",
     "text": [
      "Categorical Features in Train Set: 5\n",
      "Numerical Features in Train Set: 2\n"
     ]
    }
   ],
   "source": [
    "#categorical features\n",
    "categorical = test.select_dtypes(include =[np.object])\n",
    "print(\"Categorical Features in Train Set:\",categorical.shape[1])\n",
    "\n",
    "#numerical features\n",
    "numerical= test.select_dtypes(include =[np.float64,np.int64])\n",
    "print(\"Numerical Features in Train Set:\",numerical.shape[1])"
   ]
  },
  {
   "cell_type": "markdown",
   "metadata": {},
   "source": [
    "### Step 3: Data Cleaning"
   ]
  },
  {
   "cell_type": "markdown",
   "metadata": {},
   "source": [
    "* __As we have seen above we do not have any missing value in Training and Testing dataset. It means our data is cleaned data. And almost all features are categorical,therefore we do not have outliers in this dataset except #Order feature which is numerical and it will be discussed below.__"
   ]
  },
  {
   "cell_type": "markdown",
   "metadata": {},
   "source": [
    "### Step 4: Exploratory Data Analysis"
   ]
  },
  {
   "cell_type": "code",
   "execution_count": 13,
   "metadata": {},
   "outputs": [
    {
     "name": "stdout",
     "output_type": "stream",
     "text": [
      "<class 'pandas.core.frame.DataFrame'>\n",
      "RangeIndex: 188340 entries, 0 to 188339\n",
      "Data columns (total 10 columns):\n",
      " #   Column         Non-Null Count   Dtype         \n",
      "---  ------         --------------   -----         \n",
      " 0   ID             188340 non-null  object        \n",
      " 1   Store_id       188340 non-null  int64         \n",
      " 2   Store_Type     188340 non-null  object        \n",
      " 3   Location_Type  188340 non-null  object        \n",
      " 4   Region_Code    188340 non-null  object        \n",
      " 5   Date           188340 non-null  datetime64[ns]\n",
      " 6   Holiday        188340 non-null  int64         \n",
      " 7   Discount       188340 non-null  object        \n",
      " 8   #Order         188340 non-null  int64         \n",
      " 9   Sales          188340 non-null  float64       \n",
      "dtypes: datetime64[ns](1), float64(1), int64(3), object(5)\n",
      "memory usage: 14.4+ MB\n"
     ]
    }
   ],
   "source": [
    "train.info()"
   ]
  },
  {
   "cell_type": "code",
   "execution_count": 14,
   "metadata": {},
   "outputs": [
    {
     "data": {
      "text/plain": [
       "Index(['ID', 'Store_id', 'Store_Type', 'Location_Type', 'Region_Code', 'Date',\n",
       "       'Holiday', 'Discount', '#Order', 'Sales'],\n",
       "      dtype='object')"
      ]
     },
     "execution_count": 14,
     "metadata": {},
     "output_type": "execute_result"
    }
   ],
   "source": [
    "train.columns"
   ]
  },
  {
   "cell_type": "code",
   "execution_count": 15,
   "metadata": {},
   "outputs": [
    {
     "data": {
      "text/html": [
       "<div>\n",
       "<style scoped>\n",
       "    .dataframe tbody tr th:only-of-type {\n",
       "        vertical-align: middle;\n",
       "    }\n",
       "\n",
       "    .dataframe tbody tr th {\n",
       "        vertical-align: top;\n",
       "    }\n",
       "\n",
       "    .dataframe thead th {\n",
       "        text-align: right;\n",
       "    }\n",
       "</style>\n",
       "<table border=\"1\" class=\"dataframe\">\n",
       "  <thead>\n",
       "    <tr style=\"text-align: right;\">\n",
       "      <th></th>\n",
       "      <th>ID</th>\n",
       "      <th>Store_id</th>\n",
       "      <th>Store_Type</th>\n",
       "      <th>Location_Type</th>\n",
       "      <th>Region_Code</th>\n",
       "      <th>Date</th>\n",
       "      <th>Holiday</th>\n",
       "      <th>Discount</th>\n",
       "      <th>#Order</th>\n",
       "      <th>Sales</th>\n",
       "    </tr>\n",
       "  </thead>\n",
       "  <tbody>\n",
       "    <tr>\n",
       "      <th>0</th>\n",
       "      <td>T1000001</td>\n",
       "      <td>1</td>\n",
       "      <td>S1</td>\n",
       "      <td>L3</td>\n",
       "      <td>R1</td>\n",
       "      <td>2018-01-01</td>\n",
       "      <td>1</td>\n",
       "      <td>Yes</td>\n",
       "      <td>9</td>\n",
       "      <td>7011.84</td>\n",
       "    </tr>\n",
       "    <tr>\n",
       "      <th>1</th>\n",
       "      <td>T1000002</td>\n",
       "      <td>253</td>\n",
       "      <td>S4</td>\n",
       "      <td>L2</td>\n",
       "      <td>R1</td>\n",
       "      <td>2018-01-01</td>\n",
       "      <td>1</td>\n",
       "      <td>Yes</td>\n",
       "      <td>60</td>\n",
       "      <td>51789.12</td>\n",
       "    </tr>\n",
       "    <tr>\n",
       "      <th>2</th>\n",
       "      <td>T1000003</td>\n",
       "      <td>252</td>\n",
       "      <td>S3</td>\n",
       "      <td>L2</td>\n",
       "      <td>R1</td>\n",
       "      <td>2018-01-01</td>\n",
       "      <td>1</td>\n",
       "      <td>Yes</td>\n",
       "      <td>42</td>\n",
       "      <td>36868.20</td>\n",
       "    </tr>\n",
       "    <tr>\n",
       "      <th>3</th>\n",
       "      <td>T1000004</td>\n",
       "      <td>251</td>\n",
       "      <td>S2</td>\n",
       "      <td>L3</td>\n",
       "      <td>R1</td>\n",
       "      <td>2018-01-01</td>\n",
       "      <td>1</td>\n",
       "      <td>Yes</td>\n",
       "      <td>23</td>\n",
       "      <td>19715.16</td>\n",
       "    </tr>\n",
       "    <tr>\n",
       "      <th>4</th>\n",
       "      <td>T1000005</td>\n",
       "      <td>250</td>\n",
       "      <td>S2</td>\n",
       "      <td>L3</td>\n",
       "      <td>R4</td>\n",
       "      <td>2018-01-01</td>\n",
       "      <td>1</td>\n",
       "      <td>Yes</td>\n",
       "      <td>62</td>\n",
       "      <td>45614.52</td>\n",
       "    </tr>\n",
       "  </tbody>\n",
       "</table>\n",
       "</div>"
      ],
      "text/plain": [
       "         ID  Store_id Store_Type Location_Type Region_Code       Date  \\\n",
       "0  T1000001         1         S1            L3          R1 2018-01-01   \n",
       "1  T1000002       253         S4            L2          R1 2018-01-01   \n",
       "2  T1000003       252         S3            L2          R1 2018-01-01   \n",
       "3  T1000004       251         S2            L3          R1 2018-01-01   \n",
       "4  T1000005       250         S2            L3          R4 2018-01-01   \n",
       "\n",
       "   Holiday Discount  #Order     Sales  \n",
       "0        1      Yes       9   7011.84  \n",
       "1        1      Yes      60  51789.12  \n",
       "2        1      Yes      42  36868.20  \n",
       "3        1      Yes      23  19715.16  \n",
       "4        1      Yes      62  45614.52  "
      ]
     },
     "execution_count": 15,
     "metadata": {},
     "output_type": "execute_result"
    }
   ],
   "source": [
    "train.head()"
   ]
  },
  {
   "cell_type": "code",
   "execution_count": 16,
   "metadata": {},
   "outputs": [
    {
     "data": {
      "text/plain": [
       "S1    88752\n",
       "S4    45924\n",
       "S2    28896\n",
       "S3    24768\n",
       "Name: Store_Type, dtype: int64"
      ]
     },
     "execution_count": 16,
     "metadata": {},
     "output_type": "execute_result"
    }
   ],
   "source": [
    "train['Store_Type'].value_counts()"
   ]
  },
  {
   "cell_type": "code",
   "execution_count": 17,
   "metadata": {},
   "outputs": [
    {
     "data": {
      "image/png": "[encoded data removed]",
      "text/plain": [
       "<Figure size 432x288 with 1 Axes>"
      ]
     },
     "metadata": {
      "needs_background": "light"
     },
     "output_type": "display_data"
    }
   ],
   "source": [
    "sns.countplot(train['Store_Type']);"
   ]
  },
  {
   "cell_type": "markdown",
   "metadata": {},
   "source": [
    "* __From above graph it is clearly seen S1 store has several branches which is followed by S4,S2,S3 stores.__"
   ]
  },
  {
   "cell_type": "code",
   "execution_count": 18,
   "metadata": {},
   "outputs": [
    {
     "data": {
      "text/plain": [
       "L1    85140\n",
       "L2    48504\n",
       "L3    29928\n",
       "L5    13932\n",
       "L4    10836\n",
       "Name: Location_Type, dtype: int64"
      ]
     },
     "execution_count": 18,
     "metadata": {},
     "output_type": "execute_result"
    }
   ],
   "source": [
    "train['Location_Type'].value_counts()"
   ]
  },
  {
   "cell_type": "code",
   "execution_count": 19,
   "metadata": {},
   "outputs": [
    {
     "data": {
      "image/png": "[encoded data removed]",
      "text/plain": [
       "<Figure size 432x288 with 1 Axes>"
      ]
     },
     "metadata": {
      "needs_background": "light"
     },
     "output_type": "display_data"
    }
   ],
   "source": [
    "sns.countplot(train['Location_Type']);"
   ]
  },
  {
   "cell_type": "markdown",
   "metadata": {},
   "source": [
    "* __We can clearly see the L1 location is most repeated location which is followed by L2,L3,L5 and L4 locations.__"
   ]
  },
  {
   "cell_type": "code",
   "execution_count": 20,
   "metadata": {},
   "outputs": [
    {
     "data": {
      "text/plain": [
       "R1    63984\n",
       "R2    54180\n",
       "R3    44376\n",
       "R4    25800\n",
       "Name: Region_Code, dtype: int64"
      ]
     },
     "execution_count": 20,
     "metadata": {},
     "output_type": "execute_result"
    }
   ],
   "source": [
    "train['Region_Code'].value_counts()"
   ]
  },
  {
   "cell_type": "code",
   "execution_count": 21,
   "metadata": {},
   "outputs": [
    {
     "data": {
      "image/png": "[encoded data removed]",
      "text/plain": [
       "<Figure size 432x288 with 1 Axes>"
      ]
     },
     "metadata": {
      "needs_background": "light"
     },
     "output_type": "display_data"
    }
   ],
   "source": [
    "sns.countplot(train['Region_Code'],palette='summer');"
   ]
  },
  {
   "cell_type": "markdown",
   "metadata": {},
   "source": [
    "* __We can clearly see here the R1 region is most repeated region which is followed by R2,R3 and R4 regions.__"
   ]
  },
  {
   "cell_type": "code",
   "execution_count": 22,
   "metadata": {},
   "outputs": [
    {
     "data": {
      "text/plain": [
       "0    163520\n",
       "1     24820\n",
       "Name: Holiday, dtype: int64"
      ]
     },
     "execution_count": 22,
     "metadata": {},
     "output_type": "execute_result"
    }
   ],
   "source": [
    "train['Holiday'].value_counts()"
   ]
  },
  {
   "cell_type": "code",
   "execution_count": 23,
   "metadata": {},
   "outputs": [
    {
     "data": {
      "image/png": "[encoded data removed]",
      "text/plain": [
       "<Figure size 432x288 with 1 Axes>"
      ]
     },
     "metadata": {
      "needs_background": "light"
     },
     "output_type": "display_data"
    }
   ],
   "source": [
    "sns.countplot(train['Holiday']);"
   ]
  },
  {
   "cell_type": "markdown",
   "metadata": {},
   "source": [
    "* __we have very less holidays with compare to weekdays as shown above.__"
   ]
  },
  {
   "cell_type": "code",
   "execution_count": 24,
   "metadata": {},
   "outputs": [
    {
     "data": {
      "text/plain": [
       "No     104051\n",
       "Yes     84289\n",
       "Name: Discount, dtype: int64"
      ]
     },
     "execution_count": 24,
     "metadata": {},
     "output_type": "execute_result"
    }
   ],
   "source": [
    "train['Discount'].value_counts()"
   ]
  },
  {
   "cell_type": "code",
   "execution_count": 25,
   "metadata": {},
   "outputs": [
    {
     "data": {
      "image/png": "[encoded data removed]",
      "text/plain": [
       "<Figure size 432x288 with 1 Axes>"
      ]
     },
     "metadata": {
      "needs_background": "light"
     },
     "output_type": "display_data"
    }
   ],
   "source": [
    "sns.countplot(train['Discount']);"
   ]
  },
  {
   "cell_type": "markdown",
   "metadata": {},
   "source": [
    "* __Stores which are not providing discounts are slightly more in number than stores which are providing discount.__  "
   ]
  },
  {
   "cell_type": "markdown",
   "metadata": {},
   "source": [
    "### Relationship between categorical columns and target column(Sales)"
   ]
  },
  {
   "cell_type": "code",
   "execution_count": 26,
   "metadata": {
    "scrolled": false
   },
   "outputs": [
    {
     "data": {
      "image/png": "[encoded data removed]",
      "text/plain": [
       "<Figure size 432x288 with 1 Axes>"
      ]
     },
     "metadata": {
      "needs_background": "light"
     },
     "output_type": "display_data"
    },
    {
     "data": {
      "image/png": "[encoded data removed]",
      "text/plain": [
       "<Figure size 432x288 with 1 Axes>"
      ]
     },
     "metadata": {
      "needs_background": "light"
     },
     "output_type": "display_data"
    },
    {
     "data": {
      "image/png": "[encoded data removed]",
      "text/plain": [
       "<Figure size 432x288 with 1 Axes>"
      ]
     },
     "metadata": {
      "needs_background": "light"
     },
     "output_type": "display_data"
    },
    {
     "data": {
      "image/png": "[encoded data removed]",
      "text/plain": [
       "<Figure size 432x288 with 1 Axes>"
      ]
     },
     "metadata": {
      "needs_background": "light"
     },
     "output_type": "display_data"
    },
    {
     "data": {
      "image/png": "[encoded data removed]",
      "text/plain": [
       "<Figure size 432x288 with 1 Axes>"
      ]
     },
     "metadata": {
      "needs_background": "light"
     },
     "output_type": "display_data"
    }
   ],
   "source": [
    "for i in ['Store_Type','Location_Type','Region_Code','Holiday','Discount']:\n",
    "    \n",
    "    sns.barplot(x=i,y='Sales',data=train,palette='rainbow')\n",
    "    plt.show()"
   ]
  },
  {
   "cell_type": "markdown",
   "metadata": {},
   "source": [
    "* __As we have seen in above graphs:__\n",
    "    * __Store S4 has maximum sales more than other stores__\n",
    "    * __Location L2 has maximum sales more than other locations__\n",
    "    * __Region R1 has maximum sales more than other regions__\n",
    "    * __Stores are having more sales on working days rather than holidays(obviously there are less hoildays in a week)__\n",
    "    * __Stores which are providing discounts are having more sales.__"
   ]
  },
  {
   "cell_type": "markdown",
   "metadata": {},
   "source": [
    "### Relationship between numerical column and target column(Sales)"
   ]
  },
  {
   "cell_type": "code",
   "execution_count": 27,
   "metadata": {},
   "outputs": [
    {
     "data": {
      "image/png": "[encoded data removed]",
      "text/plain": [
       "<Figure size 432x288 with 1 Axes>"
      ]
     },
     "metadata": {
      "needs_background": "light"
     },
     "output_type": "display_data"
    }
   ],
   "source": [
    "sns.scatterplot(x=train['#Order'],y=train['Sales']);"
   ]
  },
  {
   "cell_type": "markdown",
   "metadata": {},
   "source": [
    "* __Here we can simply interpret this above graph: as #Orders are increasing, Sales are also increasing hence it's showing a \n",
    "    positive correlation.__"
   ]
  },
  {
   "cell_type": "code",
   "execution_count": 28,
   "metadata": {},
   "outputs": [
    {
     "data": {
      "text/plain": [
       "Index(['ID', 'Store_id', 'Store_Type', 'Location_Type', 'Region_Code', 'Date',\n",
       "       'Holiday', 'Discount'],\n",
       "      dtype='object')"
      ]
     },
     "execution_count": 28,
     "metadata": {},
     "output_type": "execute_result"
    }
   ],
   "source": [
    "test.columns"
   ]
  },
  {
   "cell_type": "markdown",
   "metadata": {},
   "source": [
    "* __As we can see above #Order column is not present in Test dataset that's why this column can be dropped in Train dataset\n",
    "otherwise we will get some unwanted errors while predicting the test dataset.__"
   ]
  },
  {
   "cell_type": "code",
   "execution_count": 29,
   "metadata": {},
   "outputs": [],
   "source": [
    "train.drop(columns='#Order',inplace=True)"
   ]
  },
  {
   "cell_type": "markdown",
   "metadata": {},
   "source": [
    "### Step 5 : Feature Engineering"
   ]
  },
  {
   "cell_type": "code",
   "execution_count": 30,
   "metadata": {},
   "outputs": [],
   "source": [
    "train['Discount']=train['Discount'].map({'Yes':1,'No':0})"
   ]
  },
  {
   "cell_type": "code",
   "execution_count": 31,
   "metadata": {},
   "outputs": [],
   "source": [
    "test['Discount']=test['Discount'].map({'Yes':1,'No':0})"
   ]
  },
  {
   "cell_type": "markdown",
   "metadata": {},
   "source": [
    "* __Above Discount column is converted into numerical column for Train and Test Dataset.__"
   ]
  },
  {
   "cell_type": "code",
   "execution_count": 32,
   "metadata": {},
   "outputs": [
    {
     "data": {
      "text/html": [
       "<div>\n",
       "<style scoped>\n",
       "    .dataframe tbody tr th:only-of-type {\n",
       "        vertical-align: middle;\n",
       "    }\n",
       "\n",
       "    .dataframe tbody tr th {\n",
       "        vertical-align: top;\n",
       "    }\n",
       "\n",
       "    .dataframe thead th {\n",
       "        text-align: right;\n",
       "    }\n",
       "</style>\n",
       "<table border=\"1\" class=\"dataframe\">\n",
       "  <thead>\n",
       "    <tr style=\"text-align: right;\">\n",
       "      <th></th>\n",
       "      <th>ID</th>\n",
       "      <th>Store_id</th>\n",
       "      <th>Store_Type</th>\n",
       "      <th>Location_Type</th>\n",
       "      <th>Region_Code</th>\n",
       "      <th>Date</th>\n",
       "      <th>Holiday</th>\n",
       "      <th>Discount</th>\n",
       "      <th>Sales</th>\n",
       "    </tr>\n",
       "  </thead>\n",
       "  <tbody>\n",
       "    <tr>\n",
       "      <th>0</th>\n",
       "      <td>T1000001</td>\n",
       "      <td>1</td>\n",
       "      <td>S1</td>\n",
       "      <td>L3</td>\n",
       "      <td>R1</td>\n",
       "      <td>2018-01-01</td>\n",
       "      <td>1</td>\n",
       "      <td>1</td>\n",
       "      <td>7011.84</td>\n",
       "    </tr>\n",
       "    <tr>\n",
       "      <th>1</th>\n",
       "      <td>T1000002</td>\n",
       "      <td>253</td>\n",
       "      <td>S4</td>\n",
       "      <td>L2</td>\n",
       "      <td>R1</td>\n",
       "      <td>2018-01-01</td>\n",
       "      <td>1</td>\n",
       "      <td>1</td>\n",
       "      <td>51789.12</td>\n",
       "    </tr>\n",
       "    <tr>\n",
       "      <th>2</th>\n",
       "      <td>T1000003</td>\n",
       "      <td>252</td>\n",
       "      <td>S3</td>\n",
       "      <td>L2</td>\n",
       "      <td>R1</td>\n",
       "      <td>2018-01-01</td>\n",
       "      <td>1</td>\n",
       "      <td>1</td>\n",
       "      <td>36868.20</td>\n",
       "    </tr>\n",
       "    <tr>\n",
       "      <th>3</th>\n",
       "      <td>T1000004</td>\n",
       "      <td>251</td>\n",
       "      <td>S2</td>\n",
       "      <td>L3</td>\n",
       "      <td>R1</td>\n",
       "      <td>2018-01-01</td>\n",
       "      <td>1</td>\n",
       "      <td>1</td>\n",
       "      <td>19715.16</td>\n",
       "    </tr>\n",
       "    <tr>\n",
       "      <th>4</th>\n",
       "      <td>T1000005</td>\n",
       "      <td>250</td>\n",
       "      <td>S2</td>\n",
       "      <td>L3</td>\n",
       "      <td>R4</td>\n",
       "      <td>2018-01-01</td>\n",
       "      <td>1</td>\n",
       "      <td>1</td>\n",
       "      <td>45614.52</td>\n",
       "    </tr>\n",
       "  </tbody>\n",
       "</table>\n",
       "</div>"
      ],
      "text/plain": [
       "         ID  Store_id Store_Type Location_Type Region_Code       Date  \\\n",
       "0  T1000001         1         S1            L3          R1 2018-01-01   \n",
       "1  T1000002       253         S4            L2          R1 2018-01-01   \n",
       "2  T1000003       252         S3            L2          R1 2018-01-01   \n",
       "3  T1000004       251         S2            L3          R1 2018-01-01   \n",
       "4  T1000005       250         S2            L3          R4 2018-01-01   \n",
       "\n",
       "   Holiday  Discount     Sales  \n",
       "0        1         1   7011.84  \n",
       "1        1         1  51789.12  \n",
       "2        1         1  36868.20  \n",
       "3        1         1  19715.16  \n",
       "4        1         1  45614.52  "
      ]
     },
     "execution_count": 32,
     "metadata": {},
     "output_type": "execute_result"
    }
   ],
   "source": [
    "train.head()"
   ]
  },
  {
   "cell_type": "markdown",
   "metadata": {},
   "source": [
    "* __Dummy Encoding for some categorical variables:-.__ "
   ]
  },
  {
   "cell_type": "code",
   "execution_count": 33,
   "metadata": {},
   "outputs": [],
   "source": [
    "store_type=pd.get_dummies(train['Store_Type'],prefix='Store')"
   ]
  },
  {
   "cell_type": "code",
   "execution_count": 34,
   "metadata": {},
   "outputs": [],
   "source": [
    "store_type_test=pd.get_dummies(test['Store_Type'],prefix='Store')"
   ]
  },
  {
   "cell_type": "code",
   "execution_count": 35,
   "metadata": {},
   "outputs": [],
   "source": [
    "location_type=pd.get_dummies(train['Location_Type'],prefix='Location')\n",
    "region_code=pd.get_dummies(train['Region_Code'],prefix='Region')"
   ]
  },
  {
   "cell_type": "code",
   "execution_count": 36,
   "metadata": {},
   "outputs": [],
   "source": [
    "location_type_test=pd.get_dummies(test['Location_Type'],prefix='Location')\n",
    "region_code_test=pd.get_dummies(test['Region_Code'],prefix='Region')"
   ]
  },
  {
   "cell_type": "markdown",
   "metadata": {},
   "source": [
    "* __Now,these dummy encoded columns have been added in train and test dataset.__"
   ]
  },
  {
   "cell_type": "code",
   "execution_count": 37,
   "metadata": {},
   "outputs": [],
   "source": [
    "train=train.join([store_type,location_type,region_code])"
   ]
  },
  {
   "cell_type": "code",
   "execution_count": 38,
   "metadata": {},
   "outputs": [],
   "source": [
    "test=test.join([store_type_test,location_type_test,region_code_test])"
   ]
  },
  {
   "cell_type": "markdown",
   "metadata": {},
   "source": [
    "* __Here we are dropping these original categorical columns because these columns have already beeen converted into numerical columns.__"
   ]
  },
  {
   "cell_type": "code",
   "execution_count": 39,
   "metadata": {},
   "outputs": [],
   "source": [
    "train.drop(columns=['ID','Store_id','Store_Type','Location_Type','Region_Code','Date'],inplace=True)"
   ]
  },
  {
   "cell_type": "code",
   "execution_count": 40,
   "metadata": {},
   "outputs": [],
   "source": [
    "test.drop(columns=['ID','Store_id','Store_Type','Location_Type','Region_Code','Date'],inplace=True)"
   ]
  },
  {
   "cell_type": "markdown",
   "metadata": {},
   "source": [
    "### Feature Importance"
   ]
  },
  {
   "cell_type": "code",
   "execution_count": 41,
   "metadata": {},
   "outputs": [],
   "source": [
    "# seperate features and Target\n",
    "X=train.drop(columns='Sales')\n",
    "y=train['Sales']"
   ]
  },
  {
   "cell_type": "markdown",
   "metadata": {},
   "source": [
    "* __Feature Importance using RandomForest.__"
   ]
  },
  {
   "cell_type": "code",
   "execution_count": 42,
   "metadata": {},
   "outputs": [
    {
     "data": {
      "image/png": "[encoded data removed]",
      "text/plain": [
       "<Figure size 576x396 with 1 Axes>"
      ]
     },
     "metadata": {},
     "output_type": "display_data"
    }
   ],
   "source": [
    "from yellowbrick.features import FeatureImportances\n",
    "from sklearn.ensemble import RandomForestRegressor\n",
    "\n",
    "rfc=RandomForestRegressor()\n",
    "viz=FeatureImportances(rfc)\n",
    "viz.fit(X,y)\n",
    "viz.poof();"
   ]
  },
  {
   "cell_type": "markdown",
   "metadata": {},
   "source": [
    "* __Store_S4,Discount,Location_L2,Location_L1,Store_S2 and Holiday are most important features for predicting Sales.__"
   ]
  },
  {
   "cell_type": "markdown",
   "metadata": {},
   "source": [
    "### Step 6: Building Model"
   ]
  },
  {
   "cell_type": "code",
   "execution_count": 43,
   "metadata": {},
   "outputs": [
    {
     "data": {
      "text/html": [
       "<div>\n",
       "<style scoped>\n",
       "    .dataframe tbody tr th:only-of-type {\n",
       "        vertical-align: middle;\n",
       "    }\n",
       "\n",
       "    .dataframe tbody tr th {\n",
       "        vertical-align: top;\n",
       "    }\n",
       "\n",
       "    .dataframe thead th {\n",
       "        text-align: right;\n",
       "    }\n",
       "</style>\n",
       "<table border=\"1\" class=\"dataframe\">\n",
       "  <thead>\n",
       "    <tr style=\"text-align: right;\">\n",
       "      <th></th>\n",
       "      <th>Holiday</th>\n",
       "      <th>Discount</th>\n",
       "      <th>Store_S1</th>\n",
       "      <th>Store_S2</th>\n",
       "      <th>Store_S3</th>\n",
       "      <th>Store_S4</th>\n",
       "      <th>Location_L1</th>\n",
       "      <th>Location_L2</th>\n",
       "      <th>Location_L3</th>\n",
       "      <th>Location_L4</th>\n",
       "      <th>Location_L5</th>\n",
       "      <th>Region_R1</th>\n",
       "      <th>Region_R2</th>\n",
       "      <th>Region_R3</th>\n",
       "      <th>Region_R4</th>\n",
       "    </tr>\n",
       "  </thead>\n",
       "  <tbody>\n",
       "    <tr>\n",
       "      <th>0</th>\n",
       "      <td>1</td>\n",
       "      <td>1</td>\n",
       "      <td>1</td>\n",
       "      <td>0</td>\n",
       "      <td>0</td>\n",
       "      <td>0</td>\n",
       "      <td>0</td>\n",
       "      <td>0</td>\n",
       "      <td>1</td>\n",
       "      <td>0</td>\n",
       "      <td>0</td>\n",
       "      <td>1</td>\n",
       "      <td>0</td>\n",
       "      <td>0</td>\n",
       "      <td>0</td>\n",
       "    </tr>\n",
       "    <tr>\n",
       "      <th>1</th>\n",
       "      <td>1</td>\n",
       "      <td>1</td>\n",
       "      <td>0</td>\n",
       "      <td>0</td>\n",
       "      <td>0</td>\n",
       "      <td>1</td>\n",
       "      <td>0</td>\n",
       "      <td>1</td>\n",
       "      <td>0</td>\n",
       "      <td>0</td>\n",
       "      <td>0</td>\n",
       "      <td>1</td>\n",
       "      <td>0</td>\n",
       "      <td>0</td>\n",
       "      <td>0</td>\n",
       "    </tr>\n",
       "    <tr>\n",
       "      <th>2</th>\n",
       "      <td>1</td>\n",
       "      <td>1</td>\n",
       "      <td>0</td>\n",
       "      <td>0</td>\n",
       "      <td>1</td>\n",
       "      <td>0</td>\n",
       "      <td>0</td>\n",
       "      <td>1</td>\n",
       "      <td>0</td>\n",
       "      <td>0</td>\n",
       "      <td>0</td>\n",
       "      <td>1</td>\n",
       "      <td>0</td>\n",
       "      <td>0</td>\n",
       "      <td>0</td>\n",
       "    </tr>\n",
       "    <tr>\n",
       "      <th>3</th>\n",
       "      <td>1</td>\n",
       "      <td>1</td>\n",
       "      <td>0</td>\n",
       "      <td>1</td>\n",
       "      <td>0</td>\n",
       "      <td>0</td>\n",
       "      <td>0</td>\n",
       "      <td>0</td>\n",
       "      <td>1</td>\n",
       "      <td>0</td>\n",
       "      <td>0</td>\n",
       "      <td>1</td>\n",
       "      <td>0</td>\n",
       "      <td>0</td>\n",
       "      <td>0</td>\n",
       "    </tr>\n",
       "    <tr>\n",
       "      <th>4</th>\n",
       "      <td>1</td>\n",
       "      <td>1</td>\n",
       "      <td>0</td>\n",
       "      <td>1</td>\n",
       "      <td>0</td>\n",
       "      <td>0</td>\n",
       "      <td>0</td>\n",
       "      <td>0</td>\n",
       "      <td>1</td>\n",
       "      <td>0</td>\n",
       "      <td>0</td>\n",
       "      <td>0</td>\n",
       "      <td>0</td>\n",
       "      <td>0</td>\n",
       "      <td>1</td>\n",
       "    </tr>\n",
       "  </tbody>\n",
       "</table>\n",
       "</div>"
      ],
      "text/plain": [
       "   Holiday  Discount  Store_S1  Store_S2  Store_S3  Store_S4  Location_L1  \\\n",
       "0        1         1         1         0         0         0            0   \n",
       "1        1         1         0         0         0         1            0   \n",
       "2        1         1         0         0         1         0            0   \n",
       "3        1         1         0         1         0         0            0   \n",
       "4        1         1         0         1         0         0            0   \n",
       "\n",
       "   Location_L2  Location_L3  Location_L4  Location_L5  Region_R1  Region_R2  \\\n",
       "0            0            1            0            0          1          0   \n",
       "1            1            0            0            0          1          0   \n",
       "2            1            0            0            0          1          0   \n",
       "3            0            1            0            0          1          0   \n",
       "4            0            1            0            0          0          0   \n",
       "\n",
       "   Region_R3  Region_R4  \n",
       "0          0          0  \n",
       "1          0          0  \n",
       "2          0          0  \n",
       "3          0          0  \n",
       "4          0          1  "
      ]
     },
     "execution_count": 43,
     "metadata": {},
     "output_type": "execute_result"
    }
   ],
   "source": [
    "X.head()"
   ]
  },
  {
   "cell_type": "code",
   "execution_count": 44,
   "metadata": {},
   "outputs": [],
   "source": [
    "# seperate features and Target\n",
    "X=X\n",
    "y=train['Sales']"
   ]
  },
  {
   "cell_type": "code",
   "execution_count": 45,
   "metadata": {},
   "outputs": [],
   "source": [
    "# 30% data as validation set\n",
    "X_train,X_valid,y_train,y_valid = train_test_split(X,y,test_size=0.3,random_state=30)"
   ]
  },
  {
   "cell_type": "code",
   "execution_count": 46,
   "metadata": {},
   "outputs": [],
   "source": [
    "# Model Building\n",
    "features= X.columns\n",
    "LR = LinearRegression(normalize=True)\n",
    "LR.fit(X_train,y_train)\n",
    "y_pred = LR.predict(X_valid)\n",
    "coef = pd.Series(LR.coef_,features).sort_values()\n"
   ]
  },
  {
   "cell_type": "code",
   "execution_count": 47,
   "metadata": {},
   "outputs": [
    {
     "data": {
      "image/png": "[encoded data removed]",
      "text/plain": [
       "<Figure size 576x360 with 1 Axes>"
      ]
     },
     "metadata": {},
     "output_type": "display_data"
    }
   ],
   "source": [
    "# Barplot for coefficients\n",
    "plt.figure(figsize=(8,5))\n",
    "sns.barplot(LR.coef_,features);"
   ]
  },
  {
   "cell_type": "markdown",
   "metadata": {},
   "source": [
    "* __All stores,all locations and all regions are the most important attributes to determine store sales.__"
   ]
  },
  {
   "cell_type": "markdown",
   "metadata": {},
   "source": [
    "### Trying some models for better performance:"
   ]
  },
  {
   "cell_type": "code",
   "execution_count": 48,
   "metadata": {},
   "outputs": [],
   "source": [
    "from sklearn.linear_model import Ridge, Lasso, LinearRegression\n",
    "from sklearn.tree import DecisionTreeRegressor\n",
    "from sklearn.ensemble import RandomForestRegressor\n",
    "from xgboost import XGBRegressor\n",
    "from sklearn.neighbors import KNeighborsRegressor\n",
    "from sklearn.svm import SVR"
   ]
  },
  {
   "cell_type": "code",
   "execution_count": 49,
   "metadata": {},
   "outputs": [],
   "source": [
    "algos = [ LinearRegression(),  Ridge(), Lasso(),  DecisionTreeRegressor(),  RandomForestRegressor(),  XGBRegressor(),\n",
    "          KNeighborsRegressor() ]\n",
    "\n",
    "names = [ 'LinearRegression',  'Ridge', 'Lasso',  'DecisionTreeRegressor',  'RandomForestRegressor',  'XGBRegressor',\n",
    "          'KNeighborsRegressor' ]\n",
    "\n",
    "msle_list = []"
   ]
  },
  {
   "cell_type": "code",
   "execution_count": 50,
   "metadata": {},
   "outputs": [],
   "source": [
    "for model in algos:\n",
    "    \n",
    "    model.fit(X_train,y_train)\n",
    "    y_pred = model.predict(X_valid)\n",
    "    y_pred[y_pred<0]=0\n",
    "    MSLE= metrics.mean_squared_log_error(y_valid,y_pred)\n",
    "    msle_list.append(MSLE)\n",
    "   "
   ]
  },
  {
   "cell_type": "code",
   "execution_count": 51,
   "metadata": {},
   "outputs": [],
   "source": [
    "evaluation = pd.DataFrame( {'Model': names, 'MSLE': msle_list} )"
   ]
  },
  {
   "cell_type": "code",
   "execution_count": 52,
   "metadata": {},
   "outputs": [
    {
     "data": {
      "text/html": [
       "<div>\n",
       "<style scoped>\n",
       "    .dataframe tbody tr th:only-of-type {\n",
       "        vertical-align: middle;\n",
       "    }\n",
       "\n",
       "    .dataframe tbody tr th {\n",
       "        vertical-align: top;\n",
       "    }\n",
       "\n",
       "    .dataframe thead th {\n",
       "        text-align: right;\n",
       "    }\n",
       "</style>\n",
       "<table border=\"1\" class=\"dataframe\">\n",
       "  <thead>\n",
       "    <tr style=\"text-align: right;\">\n",
       "      <th></th>\n",
       "      <th>Model</th>\n",
       "      <th>MSLE</th>\n",
       "    </tr>\n",
       "  </thead>\n",
       "  <tbody>\n",
       "    <tr>\n",
       "      <th>0</th>\n",
       "      <td>LinearRegression</td>\n",
       "      <td>0.119804</td>\n",
       "    </tr>\n",
       "    <tr>\n",
       "      <th>1</th>\n",
       "      <td>Ridge</td>\n",
       "      <td>0.119767</td>\n",
       "    </tr>\n",
       "    <tr>\n",
       "      <th>2</th>\n",
       "      <td>Lasso</td>\n",
       "      <td>0.119763</td>\n",
       "    </tr>\n",
       "    <tr>\n",
       "      <th>3</th>\n",
       "      <td>DecisionTreeRegressor</td>\n",
       "      <td>0.117114</td>\n",
       "    </tr>\n",
       "    <tr>\n",
       "      <th>4</th>\n",
       "      <td>RandomForestRegressor</td>\n",
       "      <td>0.117130</td>\n",
       "    </tr>\n",
       "    <tr>\n",
       "      <th>5</th>\n",
       "      <td>XGBRegressor</td>\n",
       "      <td>0.117113</td>\n",
       "    </tr>\n",
       "    <tr>\n",
       "      <th>6</th>\n",
       "      <td>KNeighborsRegressor</td>\n",
       "      <td>0.127287</td>\n",
       "    </tr>\n",
       "  </tbody>\n",
       "</table>\n",
       "</div>"
      ],
      "text/plain": [
       "                   Model      MSLE\n",
       "0       LinearRegression  0.119804\n",
       "1                  Ridge  0.119767\n",
       "2                  Lasso  0.119763\n",
       "3  DecisionTreeRegressor  0.117114\n",
       "4  RandomForestRegressor  0.117130\n",
       "5           XGBRegressor  0.117113\n",
       "6    KNeighborsRegressor  0.127287"
      ]
     },
     "execution_count": 52,
     "metadata": {},
     "output_type": "execute_result"
    }
   ],
   "source": [
    "evaluation"
   ]
  },
  {
   "cell_type": "code",
   "execution_count": 53,
   "metadata": {},
   "outputs": [
    {
     "data": {
      "text/plain": [
       "Model    DecisionTreeRegressor\n",
       "MSLE                  0.117113\n",
       "dtype: object"
      ]
     },
     "execution_count": 53,
     "metadata": {},
     "output_type": "execute_result"
    }
   ],
   "source": [
    "evaluation.min()"
   ]
  },
  {
   "cell_type": "markdown",
   "metadata": {},
   "source": [
    "* As we can clearly see DecisionTree,RandomForest and xgboost perform better almost same rather than other models.So we can use any one of them,let's take DecisionTree ahead."
   ]
  },
  {
   "cell_type": "markdown",
   "metadata": {},
   "source": [
    "### Step 7: Hyperparametere Tuning using RandomizedSearchCV"
   ]
  },
  {
   "cell_type": "code",
   "execution_count": 54,
   "metadata": {},
   "outputs": [],
   "source": [
    "params= {   'min_samples_split': [1,2,3,4,5,6,7,8,9],\n",
    "            'min_samples_leaf': [1,2,3,4,5,6,7,8,9],\n",
    "            'max_features': [\"auto\", \"sqrt\", \"log2\"],\n",
    "            'ccp_alpha': [0.0,0.01,0.04,0.06,0.08,0.1,0.3,0.5,0.7]\n",
    "        }"
   ]
  },
  {
   "cell_type": "code",
   "execution_count": 55,
   "metadata": {
    "scrolled": true
   },
   "outputs": [
    {
     "name": "stdout",
     "output_type": "stream",
     "text": [
      "Fitting 5 folds for each of 100 candidates, totalling 500 fits\n",
      "[CV] END ccp_alpha=0.5, max_features=sqrt, min_samples_leaf=5, min_samples_split=7; total time=   0.1s\n",
      "[CV] END ccp_alpha=0.5, max_features=sqrt, min_samples_leaf=5, min_samples_split=7; total time=   0.0s\n",
      "[CV] END ccp_alpha=0.5, max_features=sqrt, min_samples_leaf=5, min_samples_split=7; total time=   0.0s\n",
      "[CV] END ccp_alpha=0.5, max_features=sqrt, min_samples_leaf=5, min_samples_split=7; total time=   0.0s\n",
      "[CV] END ccp_alpha=0.5, max_features=sqrt, min_samples_leaf=5, min_samples_split=7; total time=   0.0s\n",
      "[CV] END ccp_alpha=0.08, max_features=log2, min_samples_leaf=3, min_samples_split=8; total time=   0.0s\n",
      "[CV] END ccp_alpha=0.08, max_features=log2, min_samples_leaf=3, min_samples_split=8; total time=   0.0s\n",
      "[CV] END ccp_alpha=0.08, max_features=log2, min_samples_leaf=3, min_samples_split=8; total time=   0.0s\n",
      "[CV] END ccp_alpha=0.08, max_features=log2, min_samples_leaf=3, min_samples_split=8; total time=   0.0s\n",
      "[CV] END ccp_alpha=0.08, max_features=log2, min_samples_leaf=3, min_samples_split=8; total time=   0.0s\n",
      "[CV] END ccp_alpha=0.08, max_features=log2, min_samples_leaf=8, min_samples_split=5; total time=   0.0s\n",
      "[CV] END ccp_alpha=0.08, max_features=log2, min_samples_leaf=8, min_samples_split=5; total time=   0.0s\n",
      "[CV] END ccp_alpha=0.08, max_features=log2, min_samples_leaf=8, min_samples_split=5; total time=   0.0s\n",
      "[CV] END ccp_alpha=0.08, max_features=log2, min_samples_leaf=8, min_samples_split=5; total time=   0.0s\n",
      "[CV] END ccp_alpha=0.08, max_features=log2, min_samples_leaf=8, min_samples_split=5; total time=   0.0s\n",
      "[CV] END ccp_alpha=0.7, max_features=auto, min_samples_leaf=4, min_samples_split=7; total time=   0.1s\n",
      "[CV] END ccp_alpha=0.7, max_features=auto, min_samples_leaf=4, min_samples_split=7; total time=   0.1s\n",
      "[CV] END ccp_alpha=0.7, max_features=auto, min_samples_leaf=4, min_samples_split=7; total time=   0.1s\n",
      "[CV] END ccp_alpha=0.7, max_features=auto, min_samples_leaf=4, min_samples_split=7; total time=   0.1s\n",
      "[CV] END ccp_alpha=0.7, max_features=auto, min_samples_leaf=4, min_samples_split=7; total time=   0.1s\n",
      "[CV] END ccp_alpha=0.5, max_features=auto, min_samples_leaf=2, min_samples_split=4; total time=   0.1s\n",
      "[CV] END ccp_alpha=0.5, max_features=auto, min_samples_leaf=2, min_samples_split=4; total time=   0.1s\n",
      "[CV] END ccp_alpha=0.5, max_features=auto, min_samples_leaf=2, min_samples_split=4; total time=   0.1s\n",
      "[CV] END ccp_alpha=0.5, max_features=auto, min_samples_leaf=2, min_samples_split=4; total time=   0.1s\n",
      "[CV] END ccp_alpha=0.5, max_features=auto, min_samples_leaf=2, min_samples_split=4; total time=   0.1s\n",
      "[CV] END ccp_alpha=0.3, max_features=log2, min_samples_leaf=2, min_samples_split=8; total time=   0.0s\n",
      "[CV] END ccp_alpha=0.3, max_features=log2, min_samples_leaf=2, min_samples_split=8; total time=   0.0s\n",
      "[CV] END ccp_alpha=0.3, max_features=log2, min_samples_leaf=2, min_samples_split=8; total time=   0.0s\n",
      "[CV] END ccp_alpha=0.3, max_features=log2, min_samples_leaf=2, min_samples_split=8; total time=   0.0s\n",
      "[CV] END ccp_alpha=0.3, max_features=log2, min_samples_leaf=2, min_samples_split=8; total time=   0.0s\n",
      "[CV] END ccp_alpha=0.04, max_features=sqrt, min_samples_leaf=2, min_samples_split=5; total time=   0.0s\n",
      "[CV] END ccp_alpha=0.04, max_features=sqrt, min_samples_leaf=2, min_samples_split=5; total time=   0.0s\n",
      "[CV] END ccp_alpha=0.04, max_features=sqrt, min_samples_leaf=2, min_samples_split=5; total time=   0.0s\n",
      "[CV] END ccp_alpha=0.04, max_features=sqrt, min_samples_leaf=2, min_samples_split=5; total time=   0.0s\n",
      "[CV] END ccp_alpha=0.04, max_features=sqrt, min_samples_leaf=2, min_samples_split=5; total time=   0.0s\n",
      "[CV] END ccp_alpha=0.3, max_features=sqrt, min_samples_leaf=5, min_samples_split=7; total time=   0.0s\n",
      "[CV] END ccp_alpha=0.3, max_features=sqrt, min_samples_leaf=5, min_samples_split=7; total time=   0.0s\n",
      "[CV] END ccp_alpha=0.3, max_features=sqrt, min_samples_leaf=5, min_samples_split=7; total time=   0.0s\n",
      "[CV] END ccp_alpha=0.3, max_features=sqrt, min_samples_leaf=5, min_samples_split=7; total time=   0.0s\n",
      "[CV] END ccp_alpha=0.3, max_features=sqrt, min_samples_leaf=5, min_samples_split=7; total time=   0.0s\n",
      "[CV] END ccp_alpha=0.1, max_features=sqrt, min_samples_leaf=4, min_samples_split=5; total time=   0.0s\n",
      "[CV] END ccp_alpha=0.1, max_features=sqrt, min_samples_leaf=4, min_samples_split=5; total time=   0.0s\n",
      "[CV] END ccp_alpha=0.1, max_features=sqrt, min_samples_leaf=4, min_samples_split=5; total time=   0.0s\n",
      "[CV] END ccp_alpha=0.1, max_features=sqrt, min_samples_leaf=4, min_samples_split=5; total time=   0.0s\n",
      "[CV] END ccp_alpha=0.1, max_features=sqrt, min_samples_leaf=4, min_samples_split=5; total time=   0.0s\n",
      "[CV] END ccp_alpha=0.04, max_features=sqrt, min_samples_leaf=7, min_samples_split=6; total time=   0.0s\n",
      "[CV] END ccp_alpha=0.04, max_features=sqrt, min_samples_leaf=7, min_samples_split=6; total time=   0.0s\n",
      "[CV] END ccp_alpha=0.04, max_features=sqrt, min_samples_leaf=7, min_samples_split=6; total time=   0.0s\n",
      "[CV] END ccp_alpha=0.04, max_features=sqrt, min_samples_leaf=7, min_samples_split=6; total time=   0.0s\n",
      "[CV] END ccp_alpha=0.04, max_features=sqrt, min_samples_leaf=7, min_samples_split=6; total time=   0.0s\n",
      "[CV] END ccp_alpha=0.5, max_features=sqrt, min_samples_leaf=8, min_samples_split=6; total time=   0.0s\n",
      "[CV] END ccp_alpha=0.5, max_features=sqrt, min_samples_leaf=8, min_samples_split=6; total time=   0.0s\n",
      "[CV] END ccp_alpha=0.5, max_features=sqrt, min_samples_leaf=8, min_samples_split=6; total time=   0.0s\n",
      "[CV] END ccp_alpha=0.5, max_features=sqrt, min_samples_leaf=8, min_samples_split=6; total time=   0.0s\n",
      "[CV] END ccp_alpha=0.5, max_features=sqrt, min_samples_leaf=8, min_samples_split=6; total time=   0.0s\n",
      "[CV] END ccp_alpha=0.7, max_features=auto, min_samples_leaf=1, min_samples_split=5; total time=   0.1s\n",
      "[CV] END ccp_alpha=0.7, max_features=auto, min_samples_leaf=1, min_samples_split=5; total time=   0.1s\n",
      "[CV] END ccp_alpha=0.7, max_features=auto, min_samples_leaf=1, min_samples_split=5; total time=   0.1s\n",
      "[CV] END ccp_alpha=0.7, max_features=auto, min_samples_leaf=1, min_samples_split=5; total time=   0.1s\n",
      "[CV] END ccp_alpha=0.7, max_features=auto, min_samples_leaf=1, min_samples_split=5; total time=   0.1s\n",
      "[CV] END ccp_alpha=0.1, max_features=log2, min_samples_leaf=9, min_samples_split=1; total time=   0.0s\n",
      "[CV] END ccp_alpha=0.1, max_features=log2, min_samples_leaf=9, min_samples_split=1; total time=   0.0s\n",
      "[CV] END ccp_alpha=0.1, max_features=log2, min_samples_leaf=9, min_samples_split=1; total time=   0.0s\n",
      "[CV] END ccp_alpha=0.1, max_features=log2, min_samples_leaf=9, min_samples_split=1; total time=   0.0s\n",
      "[CV] END ccp_alpha=0.1, max_features=log2, min_samples_leaf=9, min_samples_split=1; total time=   0.0s\n",
      "[CV] END ccp_alpha=0.3, max_features=auto, min_samples_leaf=6, min_samples_split=4; total time=   0.1s\n",
      "[CV] END ccp_alpha=0.3, max_features=auto, min_samples_leaf=6, min_samples_split=4; total time=   0.1s\n",
      "[CV] END ccp_alpha=0.3, max_features=auto, min_samples_leaf=6, min_samples_split=4; total time=   0.1s\n",
      "[CV] END ccp_alpha=0.3, max_features=auto, min_samples_leaf=6, min_samples_split=4; total time=   0.1s\n",
      "[CV] END ccp_alpha=0.3, max_features=auto, min_samples_leaf=6, min_samples_split=4; total time=   0.1s\n",
      "[CV] END ccp_alpha=0.01, max_features=log2, min_samples_leaf=7, min_samples_split=4; total time=   0.0s\n",
      "[CV] END ccp_alpha=0.01, max_features=log2, min_samples_leaf=7, min_samples_split=4; total time=   0.0s\n",
      "[CV] END ccp_alpha=0.01, max_features=log2, min_samples_leaf=7, min_samples_split=4; total time=   0.0s\n",
      "[CV] END ccp_alpha=0.01, max_features=log2, min_samples_leaf=7, min_samples_split=4; total time=   0.0s\n",
      "[CV] END ccp_alpha=0.01, max_features=log2, min_samples_leaf=7, min_samples_split=4; total time=   0.0s\n",
      "[CV] END ccp_alpha=0.08, max_features=auto, min_samples_leaf=7, min_samples_split=5; total time=   0.1s\n",
      "[CV] END ccp_alpha=0.08, max_features=auto, min_samples_leaf=7, min_samples_split=5; total time=   0.1s\n",
      "[CV] END ccp_alpha=0.08, max_features=auto, min_samples_leaf=7, min_samples_split=5; total time=   0.1s\n",
      "[CV] END ccp_alpha=0.08, max_features=auto, min_samples_leaf=7, min_samples_split=5; total time=   0.1s\n"
     ]
    },
    {
     "name": "stdout",
     "output_type": "stream",
     "text": [
      "[CV] END ccp_alpha=0.08, max_features=auto, min_samples_leaf=7, min_samples_split=5; total time=   0.1s\n",
      "[CV] END ccp_alpha=0.06, max_features=auto, min_samples_leaf=5, min_samples_split=3; total time=   0.1s\n",
      "[CV] END ccp_alpha=0.06, max_features=auto, min_samples_leaf=5, min_samples_split=3; total time=   0.1s\n",
      "[CV] END ccp_alpha=0.06, max_features=auto, min_samples_leaf=5, min_samples_split=3; total time=   0.1s\n",
      "[CV] END ccp_alpha=0.06, max_features=auto, min_samples_leaf=5, min_samples_split=3; total time=   0.1s\n",
      "[CV] END ccp_alpha=0.06, max_features=auto, min_samples_leaf=5, min_samples_split=3; total time=   0.1s\n",
      "[CV] END ccp_alpha=0.0, max_features=log2, min_samples_leaf=6, min_samples_split=7; total time=   0.0s\n",
      "[CV] END ccp_alpha=0.0, max_features=log2, min_samples_leaf=6, min_samples_split=7; total time=   0.0s\n",
      "[CV] END ccp_alpha=0.0, max_features=log2, min_samples_leaf=6, min_samples_split=7; total time=   0.0s\n",
      "[CV] END ccp_alpha=0.0, max_features=log2, min_samples_leaf=6, min_samples_split=7; total time=   0.0s\n",
      "[CV] END ccp_alpha=0.0, max_features=log2, min_samples_leaf=6, min_samples_split=7; total time=   0.0s\n",
      "[CV] END ccp_alpha=0.06, max_features=log2, min_samples_leaf=6, min_samples_split=8; total time=   0.0s\n",
      "[CV] END ccp_alpha=0.06, max_features=log2, min_samples_leaf=6, min_samples_split=8; total time=   0.0s\n",
      "[CV] END ccp_alpha=0.06, max_features=log2, min_samples_leaf=6, min_samples_split=8; total time=   0.0s\n",
      "[CV] END ccp_alpha=0.06, max_features=log2, min_samples_leaf=6, min_samples_split=8; total time=   0.0s\n",
      "[CV] END ccp_alpha=0.06, max_features=log2, min_samples_leaf=6, min_samples_split=8; total time=   0.0s\n",
      "[CV] END ccp_alpha=0.01, max_features=auto, min_samples_leaf=6, min_samples_split=8; total time=   0.1s\n",
      "[CV] END ccp_alpha=0.01, max_features=auto, min_samples_leaf=6, min_samples_split=8; total time=   0.1s\n",
      "[CV] END ccp_alpha=0.01, max_features=auto, min_samples_leaf=6, min_samples_split=8; total time=   0.1s\n",
      "[CV] END ccp_alpha=0.01, max_features=auto, min_samples_leaf=6, min_samples_split=8; total time=   0.1s\n",
      "[CV] END ccp_alpha=0.01, max_features=auto, min_samples_leaf=6, min_samples_split=8; total time=   0.1s\n",
      "[CV] END ccp_alpha=0.08, max_features=log2, min_samples_leaf=7, min_samples_split=7; total time=   0.0s\n",
      "[CV] END ccp_alpha=0.08, max_features=log2, min_samples_leaf=7, min_samples_split=7; total time=   0.0s\n",
      "[CV] END ccp_alpha=0.08, max_features=log2, min_samples_leaf=7, min_samples_split=7; total time=   0.0s\n",
      "[CV] END ccp_alpha=0.08, max_features=log2, min_samples_leaf=7, min_samples_split=7; total time=   0.0s\n",
      "[CV] END ccp_alpha=0.08, max_features=log2, min_samples_leaf=7, min_samples_split=7; total time=   0.0s\n",
      "[CV] END ccp_alpha=0.1, max_features=sqrt, min_samples_leaf=6, min_samples_split=8; total time=   0.0s\n",
      "[CV] END ccp_alpha=0.1, max_features=sqrt, min_samples_leaf=6, min_samples_split=8; total time=   0.0s\n",
      "[CV] END ccp_alpha=0.1, max_features=sqrt, min_samples_leaf=6, min_samples_split=8; total time=   0.0s\n",
      "[CV] END ccp_alpha=0.1, max_features=sqrt, min_samples_leaf=6, min_samples_split=8; total time=   0.0s\n",
      "[CV] END ccp_alpha=0.1, max_features=sqrt, min_samples_leaf=6, min_samples_split=8; total time=   0.0s\n",
      "[CV] END ccp_alpha=0.3, max_features=sqrt, min_samples_leaf=1, min_samples_split=1; total time=   0.0s\n",
      "[CV] END ccp_alpha=0.3, max_features=sqrt, min_samples_leaf=1, min_samples_split=1; total time=   0.0s\n",
      "[CV] END ccp_alpha=0.3, max_features=sqrt, min_samples_leaf=1, min_samples_split=1; total time=   0.0s\n",
      "[CV] END ccp_alpha=0.3, max_features=sqrt, min_samples_leaf=1, min_samples_split=1; total time=   0.0s\n",
      "[CV] END ccp_alpha=0.3, max_features=sqrt, min_samples_leaf=1, min_samples_split=1; total time=   0.0s\n",
      "[CV] END ccp_alpha=0.3, max_features=auto, min_samples_leaf=3, min_samples_split=4; total time=   0.1s\n",
      "[CV] END ccp_alpha=0.3, max_features=auto, min_samples_leaf=3, min_samples_split=4; total time=   0.1s\n",
      "[CV] END ccp_alpha=0.3, max_features=auto, min_samples_leaf=3, min_samples_split=4; total time=   0.1s\n",
      "[CV] END ccp_alpha=0.3, max_features=auto, min_samples_leaf=3, min_samples_split=4; total time=   0.1s\n",
      "[CV] END ccp_alpha=0.3, max_features=auto, min_samples_leaf=3, min_samples_split=4; total time=   0.1s\n",
      "[CV] END ccp_alpha=0.04, max_features=sqrt, min_samples_leaf=6, min_samples_split=7; total time=   0.0s\n",
      "[CV] END ccp_alpha=0.04, max_features=sqrt, min_samples_leaf=6, min_samples_split=7; total time=   0.0s\n",
      "[CV] END ccp_alpha=0.04, max_features=sqrt, min_samples_leaf=6, min_samples_split=7; total time=   0.0s\n",
      "[CV] END ccp_alpha=0.04, max_features=sqrt, min_samples_leaf=6, min_samples_split=7; total time=   0.0s\n",
      "[CV] END ccp_alpha=0.04, max_features=sqrt, min_samples_leaf=6, min_samples_split=7; total time=   0.0s\n",
      "[CV] END ccp_alpha=0.01, max_features=log2, min_samples_leaf=9, min_samples_split=3; total time=   0.0s\n",
      "[CV] END ccp_alpha=0.01, max_features=log2, min_samples_leaf=9, min_samples_split=3; total time=   0.1s\n",
      "[CV] END ccp_alpha=0.01, max_features=log2, min_samples_leaf=9, min_samples_split=3; total time=   0.1s\n",
      "[CV] END ccp_alpha=0.01, max_features=log2, min_samples_leaf=9, min_samples_split=3; total time=   0.1s\n",
      "[CV] END ccp_alpha=0.01, max_features=log2, min_samples_leaf=9, min_samples_split=3; total time=   0.1s\n",
      "[CV] END ccp_alpha=0.08, max_features=sqrt, min_samples_leaf=3, min_samples_split=8; total time=   0.0s\n",
      "[CV] END ccp_alpha=0.08, max_features=sqrt, min_samples_leaf=3, min_samples_split=8; total time=   0.0s\n",
      "[CV] END ccp_alpha=0.08, max_features=sqrt, min_samples_leaf=3, min_samples_split=8; total time=   0.0s\n",
      "[CV] END ccp_alpha=0.08, max_features=sqrt, min_samples_leaf=3, min_samples_split=8; total time=   0.0s\n",
      "[CV] END ccp_alpha=0.08, max_features=sqrt, min_samples_leaf=3, min_samples_split=8; total time=   0.1s\n",
      "[CV] END ccp_alpha=0.06, max_features=log2, min_samples_leaf=3, min_samples_split=8; total time=   0.0s\n",
      "[CV] END ccp_alpha=0.06, max_features=log2, min_samples_leaf=3, min_samples_split=8; total time=   0.0s\n",
      "[CV] END ccp_alpha=0.06, max_features=log2, min_samples_leaf=3, min_samples_split=8; total time=   0.0s\n",
      "[CV] END ccp_alpha=0.06, max_features=log2, min_samples_leaf=3, min_samples_split=8; total time=   0.0s\n",
      "[CV] END ccp_alpha=0.06, max_features=log2, min_samples_leaf=3, min_samples_split=8; total time=   0.0s\n",
      "[CV] END ccp_alpha=0.1, max_features=sqrt, min_samples_leaf=3, min_samples_split=3; total time=   0.1s\n",
      "[CV] END ccp_alpha=0.1, max_features=sqrt, min_samples_leaf=3, min_samples_split=3; total time=   0.0s\n",
      "[CV] END ccp_alpha=0.1, max_features=sqrt, min_samples_leaf=3, min_samples_split=3; total time=   0.0s\n",
      "[CV] END ccp_alpha=0.1, max_features=sqrt, min_samples_leaf=3, min_samples_split=3; total time=   0.0s\n",
      "[CV] END ccp_alpha=0.1, max_features=sqrt, min_samples_leaf=3, min_samples_split=3; total time=   0.0s\n",
      "[CV] END ccp_alpha=0.0, max_features=log2, min_samples_leaf=2, min_samples_split=2; total time=   0.0s\n",
      "[CV] END ccp_alpha=0.0, max_features=log2, min_samples_leaf=2, min_samples_split=2; total time=   0.0s\n",
      "[CV] END ccp_alpha=0.0, max_features=log2, min_samples_leaf=2, min_samples_split=2; total time=   0.0s\n",
      "[CV] END ccp_alpha=0.0, max_features=log2, min_samples_leaf=2, min_samples_split=2; total time=   0.0s\n",
      "[CV] END ccp_alpha=0.0, max_features=log2, min_samples_leaf=2, min_samples_split=2; total time=   0.0s\n",
      "[CV] END ccp_alpha=0.04, max_features=auto, min_samples_leaf=4, min_samples_split=5; total time=   0.1s\n",
      "[CV] END ccp_alpha=0.04, max_features=auto, min_samples_leaf=4, min_samples_split=5; total time=   0.1s\n",
      "[CV] END ccp_alpha=0.04, max_features=auto, min_samples_leaf=4, min_samples_split=5; total time=   0.1s\n",
      "[CV] END ccp_alpha=0.04, max_features=auto, min_samples_leaf=4, min_samples_split=5; total time=   0.1s\n",
      "[CV] END ccp_alpha=0.04, max_features=auto, min_samples_leaf=4, min_samples_split=5; total time=   0.1s\n",
      "[CV] END ccp_alpha=0.06, max_features=sqrt, min_samples_leaf=3, min_samples_split=2; total time=   0.0s\n",
      "[CV] END ccp_alpha=0.06, max_features=sqrt, min_samples_leaf=3, min_samples_split=2; total time=   0.0s\n",
      "[CV] END ccp_alpha=0.06, max_features=sqrt, min_samples_leaf=3, min_samples_split=2; total time=   0.0s\n",
      "[CV] END ccp_alpha=0.06, max_features=sqrt, min_samples_leaf=3, min_samples_split=2; total time=   0.0s\n",
      "[CV] END ccp_alpha=0.06, max_features=sqrt, min_samples_leaf=3, min_samples_split=2; total time=   0.0s\n"
     ]
    },
    {
     "name": "stdout",
     "output_type": "stream",
     "text": [
      "[CV] END ccp_alpha=0.1, max_features=sqrt, min_samples_leaf=6, min_samples_split=9; total time=   0.0s\n",
      "[CV] END ccp_alpha=0.1, max_features=sqrt, min_samples_leaf=6, min_samples_split=9; total time=   0.0s\n",
      "[CV] END ccp_alpha=0.1, max_features=sqrt, min_samples_leaf=6, min_samples_split=9; total time=   0.0s\n",
      "[CV] END ccp_alpha=0.1, max_features=sqrt, min_samples_leaf=6, min_samples_split=9; total time=   0.0s\n",
      "[CV] END ccp_alpha=0.1, max_features=sqrt, min_samples_leaf=6, min_samples_split=9; total time=   0.0s\n",
      "[CV] END ccp_alpha=0.08, max_features=auto, min_samples_leaf=8, min_samples_split=6; total time=   0.1s\n",
      "[CV] END ccp_alpha=0.08, max_features=auto, min_samples_leaf=8, min_samples_split=6; total time=   0.2s\n",
      "[CV] END ccp_alpha=0.08, max_features=auto, min_samples_leaf=8, min_samples_split=6; total time=   0.2s\n",
      "[CV] END ccp_alpha=0.08, max_features=auto, min_samples_leaf=8, min_samples_split=6; total time=   0.1s\n",
      "[CV] END ccp_alpha=0.08, max_features=auto, min_samples_leaf=8, min_samples_split=6; total time=   0.1s\n",
      "[CV] END ccp_alpha=0.3, max_features=sqrt, min_samples_leaf=4, min_samples_split=3; total time=   0.0s\n",
      "[CV] END ccp_alpha=0.3, max_features=sqrt, min_samples_leaf=4, min_samples_split=3; total time=   0.0s\n",
      "[CV] END ccp_alpha=0.3, max_features=sqrt, min_samples_leaf=4, min_samples_split=3; total time=   0.0s\n",
      "[CV] END ccp_alpha=0.3, max_features=sqrt, min_samples_leaf=4, min_samples_split=3; total time=   0.0s\n",
      "[CV] END ccp_alpha=0.3, max_features=sqrt, min_samples_leaf=4, min_samples_split=3; total time=   0.0s\n",
      "[CV] END ccp_alpha=0.0, max_features=sqrt, min_samples_leaf=6, min_samples_split=3; total time=   0.0s\n",
      "[CV] END ccp_alpha=0.0, max_features=sqrt, min_samples_leaf=6, min_samples_split=3; total time=   0.0s\n",
      "[CV] END ccp_alpha=0.0, max_features=sqrt, min_samples_leaf=6, min_samples_split=3; total time=   0.0s\n",
      "[CV] END ccp_alpha=0.0, max_features=sqrt, min_samples_leaf=6, min_samples_split=3; total time=   0.0s\n",
      "[CV] END ccp_alpha=0.0, max_features=sqrt, min_samples_leaf=6, min_samples_split=3; total time=   0.0s\n",
      "[CV] END ccp_alpha=0.1, max_features=sqrt, min_samples_leaf=4, min_samples_split=3; total time=   0.0s\n",
      "[CV] END ccp_alpha=0.1, max_features=sqrt, min_samples_leaf=4, min_samples_split=3; total time=   0.1s\n",
      "[CV] END ccp_alpha=0.1, max_features=sqrt, min_samples_leaf=4, min_samples_split=3; total time=   0.1s\n",
      "[CV] END ccp_alpha=0.1, max_features=sqrt, min_samples_leaf=4, min_samples_split=3; total time=   0.1s\n",
      "[CV] END ccp_alpha=0.1, max_features=sqrt, min_samples_leaf=4, min_samples_split=3; total time=   0.0s\n",
      "[CV] END ccp_alpha=0.7, max_features=sqrt, min_samples_leaf=7, min_samples_split=4; total time=   0.0s\n",
      "[CV] END ccp_alpha=0.7, max_features=sqrt, min_samples_leaf=7, min_samples_split=4; total time=   0.0s\n",
      "[CV] END ccp_alpha=0.7, max_features=sqrt, min_samples_leaf=7, min_samples_split=4; total time=   0.0s\n",
      "[CV] END ccp_alpha=0.7, max_features=sqrt, min_samples_leaf=7, min_samples_split=4; total time=   0.0s\n",
      "[CV] END ccp_alpha=0.7, max_features=sqrt, min_samples_leaf=7, min_samples_split=4; total time=   0.0s\n",
      "[CV] END ccp_alpha=0.01, max_features=log2, min_samples_leaf=4, min_samples_split=5; total time=   0.0s\n",
      "[CV] END ccp_alpha=0.01, max_features=log2, min_samples_leaf=4, min_samples_split=5; total time=   0.1s\n",
      "[CV] END ccp_alpha=0.01, max_features=log2, min_samples_leaf=4, min_samples_split=5; total time=   0.0s\n",
      "[CV] END ccp_alpha=0.01, max_features=log2, min_samples_leaf=4, min_samples_split=5; total time=   0.0s\n",
      "[CV] END ccp_alpha=0.01, max_features=log2, min_samples_leaf=4, min_samples_split=5; total time=   0.1s\n",
      "[CV] END ccp_alpha=0.04, max_features=sqrt, min_samples_leaf=8, min_samples_split=9; total time=   0.1s\n",
      "[CV] END ccp_alpha=0.04, max_features=sqrt, min_samples_leaf=8, min_samples_split=9; total time=   0.1s\n",
      "[CV] END ccp_alpha=0.04, max_features=sqrt, min_samples_leaf=8, min_samples_split=9; total time=   0.0s\n",
      "[CV] END ccp_alpha=0.04, max_features=sqrt, min_samples_leaf=8, min_samples_split=9; total time=   0.0s\n",
      "[CV] END ccp_alpha=0.04, max_features=sqrt, min_samples_leaf=8, min_samples_split=9; total time=   0.0s\n",
      "[CV] END ccp_alpha=0.08, max_features=log2, min_samples_leaf=6, min_samples_split=7; total time=   0.0s\n",
      "[CV] END ccp_alpha=0.08, max_features=log2, min_samples_leaf=6, min_samples_split=7; total time=   0.0s\n",
      "[CV] END ccp_alpha=0.08, max_features=log2, min_samples_leaf=6, min_samples_split=7; total time=   0.1s\n",
      "[CV] END ccp_alpha=0.08, max_features=log2, min_samples_leaf=6, min_samples_split=7; total time=   0.0s\n",
      "[CV] END ccp_alpha=0.08, max_features=log2, min_samples_leaf=6, min_samples_split=7; total time=   0.0s\n",
      "[CV] END ccp_alpha=0.08, max_features=sqrt, min_samples_leaf=6, min_samples_split=5; total time=   0.0s\n",
      "[CV] END ccp_alpha=0.08, max_features=sqrt, min_samples_leaf=6, min_samples_split=5; total time=   0.0s\n",
      "[CV] END ccp_alpha=0.08, max_features=sqrt, min_samples_leaf=6, min_samples_split=5; total time=   0.0s\n",
      "[CV] END ccp_alpha=0.08, max_features=sqrt, min_samples_leaf=6, min_samples_split=5; total time=   0.0s\n",
      "[CV] END ccp_alpha=0.08, max_features=sqrt, min_samples_leaf=6, min_samples_split=5; total time=   0.0s\n",
      "[CV] END ccp_alpha=0.1, max_features=sqrt, min_samples_leaf=3, min_samples_split=6; total time=   0.0s\n",
      "[CV] END ccp_alpha=0.1, max_features=sqrt, min_samples_leaf=3, min_samples_split=6; total time=   0.0s\n",
      "[CV] END ccp_alpha=0.1, max_features=sqrt, min_samples_leaf=3, min_samples_split=6; total time=   0.0s\n",
      "[CV] END ccp_alpha=0.1, max_features=sqrt, min_samples_leaf=3, min_samples_split=6; total time=   0.0s\n",
      "[CV] END ccp_alpha=0.1, max_features=sqrt, min_samples_leaf=3, min_samples_split=6; total time=   0.0s\n",
      "[CV] END ccp_alpha=0.06, max_features=auto, min_samples_leaf=6, min_samples_split=9; total time=   0.1s\n",
      "[CV] END ccp_alpha=0.06, max_features=auto, min_samples_leaf=6, min_samples_split=9; total time=   0.1s\n",
      "[CV] END ccp_alpha=0.06, max_features=auto, min_samples_leaf=6, min_samples_split=9; total time=   0.1s\n",
      "[CV] END ccp_alpha=0.06, max_features=auto, min_samples_leaf=6, min_samples_split=9; total time=   0.1s\n",
      "[CV] END ccp_alpha=0.06, max_features=auto, min_samples_leaf=6, min_samples_split=9; total time=   0.1s\n",
      "[CV] END ccp_alpha=0.5, max_features=sqrt, min_samples_leaf=6, min_samples_split=7; total time=   0.0s\n",
      "[CV] END ccp_alpha=0.5, max_features=sqrt, min_samples_leaf=6, min_samples_split=7; total time=   0.0s\n",
      "[CV] END ccp_alpha=0.5, max_features=sqrt, min_samples_leaf=6, min_samples_split=7; total time=   0.0s\n",
      "[CV] END ccp_alpha=0.5, max_features=sqrt, min_samples_leaf=6, min_samples_split=7; total time=   0.1s\n",
      "[CV] END ccp_alpha=0.5, max_features=sqrt, min_samples_leaf=6, min_samples_split=7; total time=   0.0s\n",
      "[CV] END ccp_alpha=0.08, max_features=auto, min_samples_leaf=3, min_samples_split=5; total time=   0.1s\n",
      "[CV] END ccp_alpha=0.08, max_features=auto, min_samples_leaf=3, min_samples_split=5; total time=   0.1s\n",
      "[CV] END ccp_alpha=0.08, max_features=auto, min_samples_leaf=3, min_samples_split=5; total time=   0.1s\n",
      "[CV] END ccp_alpha=0.08, max_features=auto, min_samples_leaf=3, min_samples_split=5; total time=   0.1s\n",
      "[CV] END ccp_alpha=0.08, max_features=auto, min_samples_leaf=3, min_samples_split=5; total time=   0.1s\n",
      "[CV] END ccp_alpha=0.7, max_features=auto, min_samples_leaf=5, min_samples_split=4; total time=   0.1s\n",
      "[CV] END ccp_alpha=0.7, max_features=auto, min_samples_leaf=5, min_samples_split=4; total time=   0.1s\n",
      "[CV] END ccp_alpha=0.7, max_features=auto, min_samples_leaf=5, min_samples_split=4; total time=   0.1s\n",
      "[CV] END ccp_alpha=0.7, max_features=auto, min_samples_leaf=5, min_samples_split=4; total time=   0.1s\n",
      "[CV] END ccp_alpha=0.7, max_features=auto, min_samples_leaf=5, min_samples_split=4; total time=   0.1s\n",
      "[CV] END ccp_alpha=0.06, max_features=auto, min_samples_leaf=9, min_samples_split=7; total time=   0.1s\n",
      "[CV] END ccp_alpha=0.06, max_features=auto, min_samples_leaf=9, min_samples_split=7; total time=   0.1s\n",
      "[CV] END ccp_alpha=0.06, max_features=auto, min_samples_leaf=9, min_samples_split=7; total time=   0.1s\n",
      "[CV] END ccp_alpha=0.06, max_features=auto, min_samples_leaf=9, min_samples_split=7; total time=   0.1s\n",
      "[CV] END ccp_alpha=0.06, max_features=auto, min_samples_leaf=9, min_samples_split=7; total time=   0.1s\n"
     ]
    },
    {
     "name": "stdout",
     "output_type": "stream",
     "text": [
      "[CV] END ccp_alpha=0.04, max_features=log2, min_samples_leaf=4, min_samples_split=5; total time=   0.0s\n",
      "[CV] END ccp_alpha=0.04, max_features=log2, min_samples_leaf=4, min_samples_split=5; total time=   0.0s\n",
      "[CV] END ccp_alpha=0.04, max_features=log2, min_samples_leaf=4, min_samples_split=5; total time=   0.0s\n",
      "[CV] END ccp_alpha=0.04, max_features=log2, min_samples_leaf=4, min_samples_split=5; total time=   0.0s\n",
      "[CV] END ccp_alpha=0.04, max_features=log2, min_samples_leaf=4, min_samples_split=5; total time=   0.0s\n",
      "[CV] END ccp_alpha=0.7, max_features=auto, min_samples_leaf=7, min_samples_split=5; total time=   0.1s\n",
      "[CV] END ccp_alpha=0.7, max_features=auto, min_samples_leaf=7, min_samples_split=5; total time=   0.1s\n",
      "[CV] END ccp_alpha=0.7, max_features=auto, min_samples_leaf=7, min_samples_split=5; total time=   0.1s\n",
      "[CV] END ccp_alpha=0.7, max_features=auto, min_samples_leaf=7, min_samples_split=5; total time=   0.1s\n",
      "[CV] END ccp_alpha=0.7, max_features=auto, min_samples_leaf=7, min_samples_split=5; total time=   0.1s\n",
      "[CV] END ccp_alpha=0.5, max_features=auto, min_samples_leaf=8, min_samples_split=5; total time=   0.1s\n",
      "[CV] END ccp_alpha=0.5, max_features=auto, min_samples_leaf=8, min_samples_split=5; total time=   0.1s\n",
      "[CV] END ccp_alpha=0.5, max_features=auto, min_samples_leaf=8, min_samples_split=5; total time=   0.1s\n",
      "[CV] END ccp_alpha=0.5, max_features=auto, min_samples_leaf=8, min_samples_split=5; total time=   0.1s\n",
      "[CV] END ccp_alpha=0.5, max_features=auto, min_samples_leaf=8, min_samples_split=5; total time=   0.1s\n",
      "[CV] END ccp_alpha=0.01, max_features=log2, min_samples_leaf=5, min_samples_split=2; total time=   0.0s\n",
      "[CV] END ccp_alpha=0.01, max_features=log2, min_samples_leaf=5, min_samples_split=2; total time=   0.0s\n",
      "[CV] END ccp_alpha=0.01, max_features=log2, min_samples_leaf=5, min_samples_split=2; total time=   0.0s\n",
      "[CV] END ccp_alpha=0.01, max_features=log2, min_samples_leaf=5, min_samples_split=2; total time=   0.0s\n",
      "[CV] END ccp_alpha=0.01, max_features=log2, min_samples_leaf=5, min_samples_split=2; total time=   0.0s\n",
      "[CV] END ccp_alpha=0.08, max_features=auto, min_samples_leaf=2, min_samples_split=1; total time=   0.0s\n",
      "[CV] END ccp_alpha=0.08, max_features=auto, min_samples_leaf=2, min_samples_split=1; total time=   0.0s\n",
      "[CV] END ccp_alpha=0.08, max_features=auto, min_samples_leaf=2, min_samples_split=1; total time=   0.0s\n",
      "[CV] END ccp_alpha=0.08, max_features=auto, min_samples_leaf=2, min_samples_split=1; total time=   0.0s\n",
      "[CV] END ccp_alpha=0.08, max_features=auto, min_samples_leaf=2, min_samples_split=1; total time=   0.0s\n",
      "[CV] END ccp_alpha=0.06, max_features=sqrt, min_samples_leaf=6, min_samples_split=4; total time=   0.0s\n",
      "[CV] END ccp_alpha=0.06, max_features=sqrt, min_samples_leaf=6, min_samples_split=4; total time=   0.0s\n",
      "[CV] END ccp_alpha=0.06, max_features=sqrt, min_samples_leaf=6, min_samples_split=4; total time=   0.0s\n",
      "[CV] END ccp_alpha=0.06, max_features=sqrt, min_samples_leaf=6, min_samples_split=4; total time=   0.0s\n",
      "[CV] END ccp_alpha=0.06, max_features=sqrt, min_samples_leaf=6, min_samples_split=4; total time=   0.0s\n",
      "[CV] END ccp_alpha=0.08, max_features=auto, min_samples_leaf=8, min_samples_split=8; total time=   0.1s\n",
      "[CV] END ccp_alpha=0.08, max_features=auto, min_samples_leaf=8, min_samples_split=8; total time=   0.1s\n",
      "[CV] END ccp_alpha=0.08, max_features=auto, min_samples_leaf=8, min_samples_split=8; total time=   0.1s\n",
      "[CV] END ccp_alpha=0.08, max_features=auto, min_samples_leaf=8, min_samples_split=8; total time=   0.1s\n",
      "[CV] END ccp_alpha=0.08, max_features=auto, min_samples_leaf=8, min_samples_split=8; total time=   0.1s\n",
      "[CV] END ccp_alpha=0.04, max_features=log2, min_samples_leaf=9, min_samples_split=7; total time=   0.0s\n",
      "[CV] END ccp_alpha=0.04, max_features=log2, min_samples_leaf=9, min_samples_split=7; total time=   0.0s\n",
      "[CV] END ccp_alpha=0.04, max_features=log2, min_samples_leaf=9, min_samples_split=7; total time=   0.0s\n",
      "[CV] END ccp_alpha=0.04, max_features=log2, min_samples_leaf=9, min_samples_split=7; total time=   0.0s\n",
      "[CV] END ccp_alpha=0.04, max_features=log2, min_samples_leaf=9, min_samples_split=7; total time=   0.0s\n",
      "[CV] END ccp_alpha=0.0, max_features=log2, min_samples_leaf=2, min_samples_split=5; total time=   0.0s\n",
      "[CV] END ccp_alpha=0.0, max_features=log2, min_samples_leaf=2, min_samples_split=5; total time=   0.0s\n",
      "[CV] END ccp_alpha=0.0, max_features=log2, min_samples_leaf=2, min_samples_split=5; total time=   0.0s\n",
      "[CV] END ccp_alpha=0.0, max_features=log2, min_samples_leaf=2, min_samples_split=5; total time=   0.0s\n",
      "[CV] END ccp_alpha=0.0, max_features=log2, min_samples_leaf=2, min_samples_split=5; total time=   0.0s\n",
      "[CV] END ccp_alpha=0.01, max_features=log2, min_samples_leaf=6, min_samples_split=8; total time=   0.0s\n",
      "[CV] END ccp_alpha=0.01, max_features=log2, min_samples_leaf=6, min_samples_split=8; total time=   0.0s\n",
      "[CV] END ccp_alpha=0.01, max_features=log2, min_samples_leaf=6, min_samples_split=8; total time=   0.0s\n",
      "[CV] END ccp_alpha=0.01, max_features=log2, min_samples_leaf=6, min_samples_split=8; total time=   0.0s\n",
      "[CV] END ccp_alpha=0.01, max_features=log2, min_samples_leaf=6, min_samples_split=8; total time=   0.0s\n",
      "[CV] END ccp_alpha=0.01, max_features=auto, min_samples_leaf=9, min_samples_split=5; total time=   0.1s\n",
      "[CV] END ccp_alpha=0.01, max_features=auto, min_samples_leaf=9, min_samples_split=5; total time=   0.1s\n",
      "[CV] END ccp_alpha=0.01, max_features=auto, min_samples_leaf=9, min_samples_split=5; total time=   0.1s\n",
      "[CV] END ccp_alpha=0.01, max_features=auto, min_samples_leaf=9, min_samples_split=5; total time=   0.1s\n",
      "[CV] END ccp_alpha=0.01, max_features=auto, min_samples_leaf=9, min_samples_split=5; total time=   0.1s\n",
      "[CV] END ccp_alpha=0.0, max_features=log2, min_samples_leaf=2, min_samples_split=1; total time=   0.0s\n",
      "[CV] END ccp_alpha=0.0, max_features=log2, min_samples_leaf=2, min_samples_split=1; total time=   0.0s\n",
      "[CV] END ccp_alpha=0.0, max_features=log2, min_samples_leaf=2, min_samples_split=1; total time=   0.0s\n",
      "[CV] END ccp_alpha=0.0, max_features=log2, min_samples_leaf=2, min_samples_split=1; total time=   0.0s\n",
      "[CV] END ccp_alpha=0.0, max_features=log2, min_samples_leaf=2, min_samples_split=1; total time=   0.0s\n",
      "[CV] END ccp_alpha=0.3, max_features=log2, min_samples_leaf=1, min_samples_split=5; total time=   0.1s\n",
      "[CV] END ccp_alpha=0.3, max_features=log2, min_samples_leaf=1, min_samples_split=5; total time=   0.1s\n",
      "[CV] END ccp_alpha=0.3, max_features=log2, min_samples_leaf=1, min_samples_split=5; total time=   0.0s\n",
      "[CV] END ccp_alpha=0.3, max_features=log2, min_samples_leaf=1, min_samples_split=5; total time=   0.0s\n",
      "[CV] END ccp_alpha=0.3, max_features=log2, min_samples_leaf=1, min_samples_split=5; total time=   0.0s\n",
      "[CV] END ccp_alpha=0.7, max_features=log2, min_samples_leaf=5, min_samples_split=9; total time=   0.0s\n",
      "[CV] END ccp_alpha=0.7, max_features=log2, min_samples_leaf=5, min_samples_split=9; total time=   0.0s\n",
      "[CV] END ccp_alpha=0.7, max_features=log2, min_samples_leaf=5, min_samples_split=9; total time=   0.0s\n",
      "[CV] END ccp_alpha=0.7, max_features=log2, min_samples_leaf=5, min_samples_split=9; total time=   0.0s\n",
      "[CV] END ccp_alpha=0.7, max_features=log2, min_samples_leaf=5, min_samples_split=9; total time=   0.0s\n",
      "[CV] END ccp_alpha=0.3, max_features=auto, min_samples_leaf=8, min_samples_split=4; total time=   0.1s\n",
      "[CV] END ccp_alpha=0.3, max_features=auto, min_samples_leaf=8, min_samples_split=4; total time=   0.1s\n",
      "[CV] END ccp_alpha=0.3, max_features=auto, min_samples_leaf=8, min_samples_split=4; total time=   0.2s\n",
      "[CV] END ccp_alpha=0.3, max_features=auto, min_samples_leaf=8, min_samples_split=4; total time=   0.1s\n",
      "[CV] END ccp_alpha=0.3, max_features=auto, min_samples_leaf=8, min_samples_split=4; total time=   0.1s\n",
      "[CV] END ccp_alpha=0.06, max_features=sqrt, min_samples_leaf=2, min_samples_split=6; total time=   0.0s\n",
      "[CV] END ccp_alpha=0.06, max_features=sqrt, min_samples_leaf=2, min_samples_split=6; total time=   0.0s\n",
      "[CV] END ccp_alpha=0.06, max_features=sqrt, min_samples_leaf=2, min_samples_split=6; total time=   0.0s\n",
      "[CV] END ccp_alpha=0.06, max_features=sqrt, min_samples_leaf=2, min_samples_split=6; total time=   0.0s\n",
      "[CV] END ccp_alpha=0.06, max_features=sqrt, min_samples_leaf=2, min_samples_split=6; total time=   0.0s\n",
      "[CV] END ccp_alpha=0.06, max_features=log2, min_samples_leaf=8, min_samples_split=1; total time=   0.0s\n",
      "[CV] END ccp_alpha=0.06, max_features=log2, min_samples_leaf=8, min_samples_split=1; total time=   0.0s\n",
      "[CV] END ccp_alpha=0.06, max_features=log2, min_samples_leaf=8, min_samples_split=1; total time=   0.0s\n",
      "[CV] END ccp_alpha=0.06, max_features=log2, min_samples_leaf=8, min_samples_split=1; total time=   0.0s\n"
     ]
    },
    {
     "name": "stdout",
     "output_type": "stream",
     "text": [
      "[CV] END ccp_alpha=0.06, max_features=log2, min_samples_leaf=8, min_samples_split=1; total time=   0.0s\n",
      "[CV] END ccp_alpha=0.1, max_features=sqrt, min_samples_leaf=3, min_samples_split=4; total time=   0.0s\n",
      "[CV] END ccp_alpha=0.1, max_features=sqrt, min_samples_leaf=3, min_samples_split=4; total time=   0.0s\n",
      "[CV] END ccp_alpha=0.1, max_features=sqrt, min_samples_leaf=3, min_samples_split=4; total time=   0.0s\n",
      "[CV] END ccp_alpha=0.1, max_features=sqrt, min_samples_leaf=3, min_samples_split=4; total time=   0.0s\n",
      "[CV] END ccp_alpha=0.1, max_features=sqrt, min_samples_leaf=3, min_samples_split=4; total time=   0.0s\n",
      "[CV] END ccp_alpha=0.01, max_features=log2, min_samples_leaf=9, min_samples_split=6; total time=   0.0s\n",
      "[CV] END ccp_alpha=0.01, max_features=log2, min_samples_leaf=9, min_samples_split=6; total time=   0.0s\n",
      "[CV] END ccp_alpha=0.01, max_features=log2, min_samples_leaf=9, min_samples_split=6; total time=   0.0s\n",
      "[CV] END ccp_alpha=0.01, max_features=log2, min_samples_leaf=9, min_samples_split=6; total time=   0.0s\n",
      "[CV] END ccp_alpha=0.01, max_features=log2, min_samples_leaf=9, min_samples_split=6; total time=   0.0s\n",
      "[CV] END ccp_alpha=0.5, max_features=log2, min_samples_leaf=5, min_samples_split=6; total time=   0.0s\n",
      "[CV] END ccp_alpha=0.5, max_features=log2, min_samples_leaf=5, min_samples_split=6; total time=   0.0s\n",
      "[CV] END ccp_alpha=0.5, max_features=log2, min_samples_leaf=5, min_samples_split=6; total time=   0.0s\n",
      "[CV] END ccp_alpha=0.5, max_features=log2, min_samples_leaf=5, min_samples_split=6; total time=   0.0s\n",
      "[CV] END ccp_alpha=0.5, max_features=log2, min_samples_leaf=5, min_samples_split=6; total time=   0.0s\n",
      "[CV] END ccp_alpha=0.06, max_features=auto, min_samples_leaf=8, min_samples_split=3; total time=   0.1s\n",
      "[CV] END ccp_alpha=0.06, max_features=auto, min_samples_leaf=8, min_samples_split=3; total time=   0.1s\n",
      "[CV] END ccp_alpha=0.06, max_features=auto, min_samples_leaf=8, min_samples_split=3; total time=   0.1s\n",
      "[CV] END ccp_alpha=0.06, max_features=auto, min_samples_leaf=8, min_samples_split=3; total time=   0.1s\n",
      "[CV] END ccp_alpha=0.06, max_features=auto, min_samples_leaf=8, min_samples_split=3; total time=   0.1s\n",
      "[CV] END ccp_alpha=0.01, max_features=auto, min_samples_leaf=7, min_samples_split=6; total time=   0.1s\n",
      "[CV] END ccp_alpha=0.01, max_features=auto, min_samples_leaf=7, min_samples_split=6; total time=   0.1s\n",
      "[CV] END ccp_alpha=0.01, max_features=auto, min_samples_leaf=7, min_samples_split=6; total time=   0.1s\n",
      "[CV] END ccp_alpha=0.01, max_features=auto, min_samples_leaf=7, min_samples_split=6; total time=   0.1s\n",
      "[CV] END ccp_alpha=0.01, max_features=auto, min_samples_leaf=7, min_samples_split=6; total time=   0.1s\n",
      "[CV] END ccp_alpha=0.04, max_features=sqrt, min_samples_leaf=9, min_samples_split=4; total time=   0.0s\n",
      "[CV] END ccp_alpha=0.04, max_features=sqrt, min_samples_leaf=9, min_samples_split=4; total time=   0.0s\n",
      "[CV] END ccp_alpha=0.04, max_features=sqrt, min_samples_leaf=9, min_samples_split=4; total time=   0.0s\n",
      "[CV] END ccp_alpha=0.04, max_features=sqrt, min_samples_leaf=9, min_samples_split=4; total time=   0.0s\n",
      "[CV] END ccp_alpha=0.04, max_features=sqrt, min_samples_leaf=9, min_samples_split=4; total time=   0.0s\n",
      "[CV] END ccp_alpha=0.01, max_features=log2, min_samples_leaf=6, min_samples_split=2; total time=   0.0s\n",
      "[CV] END ccp_alpha=0.01, max_features=log2, min_samples_leaf=6, min_samples_split=2; total time=   0.0s\n",
      "[CV] END ccp_alpha=0.01, max_features=log2, min_samples_leaf=6, min_samples_split=2; total time=   0.0s\n",
      "[CV] END ccp_alpha=0.01, max_features=log2, min_samples_leaf=6, min_samples_split=2; total time=   0.1s\n",
      "[CV] END ccp_alpha=0.01, max_features=log2, min_samples_leaf=6, min_samples_split=2; total time=   0.0s\n",
      "[CV] END ccp_alpha=0.06, max_features=sqrt, min_samples_leaf=9, min_samples_split=4; total time=   0.0s\n",
      "[CV] END ccp_alpha=0.06, max_features=sqrt, min_samples_leaf=9, min_samples_split=4; total time=   0.0s\n",
      "[CV] END ccp_alpha=0.06, max_features=sqrt, min_samples_leaf=9, min_samples_split=4; total time=   0.0s\n",
      "[CV] END ccp_alpha=0.06, max_features=sqrt, min_samples_leaf=9, min_samples_split=4; total time=   0.0s\n",
      "[CV] END ccp_alpha=0.06, max_features=sqrt, min_samples_leaf=9, min_samples_split=4; total time=   0.0s\n",
      "[CV] END ccp_alpha=0.04, max_features=auto, min_samples_leaf=3, min_samples_split=5; total time=   0.1s\n",
      "[CV] END ccp_alpha=0.04, max_features=auto, min_samples_leaf=3, min_samples_split=5; total time=   0.1s\n",
      "[CV] END ccp_alpha=0.04, max_features=auto, min_samples_leaf=3, min_samples_split=5; total time=   0.1s\n",
      "[CV] END ccp_alpha=0.04, max_features=auto, min_samples_leaf=3, min_samples_split=5; total time=   0.1s\n",
      "[CV] END ccp_alpha=0.04, max_features=auto, min_samples_leaf=3, min_samples_split=5; total time=   0.1s\n",
      "[CV] END ccp_alpha=0.08, max_features=sqrt, min_samples_leaf=9, min_samples_split=2; total time=   0.0s\n",
      "[CV] END ccp_alpha=0.08, max_features=sqrt, min_samples_leaf=9, min_samples_split=2; total time=   0.0s\n",
      "[CV] END ccp_alpha=0.08, max_features=sqrt, min_samples_leaf=9, min_samples_split=2; total time=   0.0s\n",
      "[CV] END ccp_alpha=0.08, max_features=sqrt, min_samples_leaf=9, min_samples_split=2; total time=   0.0s\n",
      "[CV] END ccp_alpha=0.08, max_features=sqrt, min_samples_leaf=9, min_samples_split=2; total time=   0.0s\n",
      "[CV] END ccp_alpha=0.06, max_features=sqrt, min_samples_leaf=8, min_samples_split=4; total time=   0.0s\n",
      "[CV] END ccp_alpha=0.06, max_features=sqrt, min_samples_leaf=8, min_samples_split=4; total time=   0.0s\n",
      "[CV] END ccp_alpha=0.06, max_features=sqrt, min_samples_leaf=8, min_samples_split=4; total time=   0.0s\n",
      "[CV] END ccp_alpha=0.06, max_features=sqrt, min_samples_leaf=8, min_samples_split=4; total time=   0.0s\n",
      "[CV] END ccp_alpha=0.06, max_features=sqrt, min_samples_leaf=8, min_samples_split=4; total time=   0.0s\n",
      "[CV] END ccp_alpha=0.1, max_features=auto, min_samples_leaf=3, min_samples_split=4; total time=   0.1s\n",
      "[CV] END ccp_alpha=0.1, max_features=auto, min_samples_leaf=3, min_samples_split=4; total time=   0.1s\n",
      "[CV] END ccp_alpha=0.1, max_features=auto, min_samples_leaf=3, min_samples_split=4; total time=   0.1s\n",
      "[CV] END ccp_alpha=0.1, max_features=auto, min_samples_leaf=3, min_samples_split=4; total time=   0.1s\n",
      "[CV] END ccp_alpha=0.1, max_features=auto, min_samples_leaf=3, min_samples_split=4; total time=   0.1s\n",
      "[CV] END ccp_alpha=0.3, max_features=sqrt, min_samples_leaf=3, min_samples_split=5; total time=   0.0s\n",
      "[CV] END ccp_alpha=0.3, max_features=sqrt, min_samples_leaf=3, min_samples_split=5; total time=   0.0s\n",
      "[CV] END ccp_alpha=0.3, max_features=sqrt, min_samples_leaf=3, min_samples_split=5; total time=   0.0s\n",
      "[CV] END ccp_alpha=0.3, max_features=sqrt, min_samples_leaf=3, min_samples_split=5; total time=   0.0s\n",
      "[CV] END ccp_alpha=0.3, max_features=sqrt, min_samples_leaf=3, min_samples_split=5; total time=   0.0s\n",
      "[CV] END ccp_alpha=0.5, max_features=auto, min_samples_leaf=8, min_samples_split=3; total time=   0.1s\n",
      "[CV] END ccp_alpha=0.5, max_features=auto, min_samples_leaf=8, min_samples_split=3; total time=   0.1s\n",
      "[CV] END ccp_alpha=0.5, max_features=auto, min_samples_leaf=8, min_samples_split=3; total time=   0.1s\n",
      "[CV] END ccp_alpha=0.5, max_features=auto, min_samples_leaf=8, min_samples_split=3; total time=   0.1s\n",
      "[CV] END ccp_alpha=0.5, max_features=auto, min_samples_leaf=8, min_samples_split=3; total time=   0.1s\n",
      "[CV] END ccp_alpha=0.3, max_features=auto, min_samples_leaf=6, min_samples_split=5; total time=   0.1s\n",
      "[CV] END ccp_alpha=0.3, max_features=auto, min_samples_leaf=6, min_samples_split=5; total time=   0.1s\n",
      "[CV] END ccp_alpha=0.3, max_features=auto, min_samples_leaf=6, min_samples_split=5; total time=   0.1s\n",
      "[CV] END ccp_alpha=0.3, max_features=auto, min_samples_leaf=6, min_samples_split=5; total time=   0.1s\n",
      "[CV] END ccp_alpha=0.3, max_features=auto, min_samples_leaf=6, min_samples_split=5; total time=   0.1s\n",
      "[CV] END ccp_alpha=0.01, max_features=log2, min_samples_leaf=8, min_samples_split=3; total time=   0.0s\n",
      "[CV] END ccp_alpha=0.01, max_features=log2, min_samples_leaf=8, min_samples_split=3; total time=   0.0s\n",
      "[CV] END ccp_alpha=0.01, max_features=log2, min_samples_leaf=8, min_samples_split=3; total time=   0.0s\n",
      "[CV] END ccp_alpha=0.01, max_features=log2, min_samples_leaf=8, min_samples_split=3; total time=   0.0s\n",
      "[CV] END ccp_alpha=0.01, max_features=log2, min_samples_leaf=8, min_samples_split=3; total time=   0.0s\n"
     ]
    },
    {
     "name": "stdout",
     "output_type": "stream",
     "text": [
      "[CV] END ccp_alpha=0.7, max_features=auto, min_samples_leaf=7, min_samples_split=7; total time=   0.1s\n",
      "[CV] END ccp_alpha=0.7, max_features=auto, min_samples_leaf=7, min_samples_split=7; total time=   0.1s\n",
      "[CV] END ccp_alpha=0.7, max_features=auto, min_samples_leaf=7, min_samples_split=7; total time=   0.1s\n",
      "[CV] END ccp_alpha=0.7, max_features=auto, min_samples_leaf=7, min_samples_split=7; total time=   0.1s\n",
      "[CV] END ccp_alpha=0.7, max_features=auto, min_samples_leaf=7, min_samples_split=7; total time=   0.1s\n",
      "[CV] END ccp_alpha=0.0, max_features=auto, min_samples_leaf=6, min_samples_split=8; total time=   0.1s\n",
      "[CV] END ccp_alpha=0.0, max_features=auto, min_samples_leaf=6, min_samples_split=8; total time=   0.1s\n",
      "[CV] END ccp_alpha=0.0, max_features=auto, min_samples_leaf=6, min_samples_split=8; total time=   0.1s\n",
      "[CV] END ccp_alpha=0.0, max_features=auto, min_samples_leaf=6, min_samples_split=8; total time=   0.1s\n",
      "[CV] END ccp_alpha=0.0, max_features=auto, min_samples_leaf=6, min_samples_split=8; total time=   0.1s\n",
      "[CV] END ccp_alpha=0.01, max_features=log2, min_samples_leaf=2, min_samples_split=1; total time=   0.0s\n",
      "[CV] END ccp_alpha=0.01, max_features=log2, min_samples_leaf=2, min_samples_split=1; total time=   0.0s\n",
      "[CV] END ccp_alpha=0.01, max_features=log2, min_samples_leaf=2, min_samples_split=1; total time=   0.0s\n",
      "[CV] END ccp_alpha=0.01, max_features=log2, min_samples_leaf=2, min_samples_split=1; total time=   0.0s\n",
      "[CV] END ccp_alpha=0.01, max_features=log2, min_samples_leaf=2, min_samples_split=1; total time=   0.0s\n",
      "[CV] END ccp_alpha=0.5, max_features=auto, min_samples_leaf=7, min_samples_split=3; total time=   0.1s\n",
      "[CV] END ccp_alpha=0.5, max_features=auto, min_samples_leaf=7, min_samples_split=3; total time=   0.1s\n",
      "[CV] END ccp_alpha=0.5, max_features=auto, min_samples_leaf=7, min_samples_split=3; total time=   0.1s\n",
      "[CV] END ccp_alpha=0.5, max_features=auto, min_samples_leaf=7, min_samples_split=3; total time=   0.1s\n",
      "[CV] END ccp_alpha=0.5, max_features=auto, min_samples_leaf=7, min_samples_split=3; total time=   0.1s\n",
      "[CV] END ccp_alpha=0.7, max_features=log2, min_samples_leaf=8, min_samples_split=3; total time=   0.0s\n",
      "[CV] END ccp_alpha=0.7, max_features=log2, min_samples_leaf=8, min_samples_split=3; total time=   0.0s\n",
      "[CV] END ccp_alpha=0.7, max_features=log2, min_samples_leaf=8, min_samples_split=3; total time=   0.0s\n",
      "[CV] END ccp_alpha=0.7, max_features=log2, min_samples_leaf=8, min_samples_split=3; total time=   0.0s\n",
      "[CV] END ccp_alpha=0.7, max_features=log2, min_samples_leaf=8, min_samples_split=3; total time=   0.0s\n",
      "[CV] END ccp_alpha=0.3, max_features=log2, min_samples_leaf=2, min_samples_split=9; total time=   0.0s\n",
      "[CV] END ccp_alpha=0.3, max_features=log2, min_samples_leaf=2, min_samples_split=9; total time=   0.0s\n",
      "[CV] END ccp_alpha=0.3, max_features=log2, min_samples_leaf=2, min_samples_split=9; total time=   0.0s\n",
      "[CV] END ccp_alpha=0.3, max_features=log2, min_samples_leaf=2, min_samples_split=9; total time=   0.0s\n",
      "[CV] END ccp_alpha=0.3, max_features=log2, min_samples_leaf=2, min_samples_split=9; total time=   0.0s\n",
      "[CV] END ccp_alpha=0.1, max_features=sqrt, min_samples_leaf=1, min_samples_split=2; total time=   0.0s\n",
      "[CV] END ccp_alpha=0.1, max_features=sqrt, min_samples_leaf=1, min_samples_split=2; total time=   0.0s\n",
      "[CV] END ccp_alpha=0.1, max_features=sqrt, min_samples_leaf=1, min_samples_split=2; total time=   0.0s\n",
      "[CV] END ccp_alpha=0.1, max_features=sqrt, min_samples_leaf=1, min_samples_split=2; total time=   0.0s\n",
      "[CV] END ccp_alpha=0.1, max_features=sqrt, min_samples_leaf=1, min_samples_split=2; total time=   0.0s\n",
      "[CV] END ccp_alpha=0.01, max_features=log2, min_samples_leaf=9, min_samples_split=2; total time=   0.0s\n",
      "[CV] END ccp_alpha=0.01, max_features=log2, min_samples_leaf=9, min_samples_split=2; total time=   0.0s\n",
      "[CV] END ccp_alpha=0.01, max_features=log2, min_samples_leaf=9, min_samples_split=2; total time=   0.0s\n",
      "[CV] END ccp_alpha=0.01, max_features=log2, min_samples_leaf=9, min_samples_split=2; total time=   0.0s\n",
      "[CV] END ccp_alpha=0.01, max_features=log2, min_samples_leaf=9, min_samples_split=2; total time=   0.0s\n",
      "[CV] END ccp_alpha=0.1, max_features=sqrt, min_samples_leaf=8, min_samples_split=2; total time=   0.0s\n",
      "[CV] END ccp_alpha=0.1, max_features=sqrt, min_samples_leaf=8, min_samples_split=2; total time=   0.0s\n",
      "[CV] END ccp_alpha=0.1, max_features=sqrt, min_samples_leaf=8, min_samples_split=2; total time=   0.0s\n",
      "[CV] END ccp_alpha=0.1, max_features=sqrt, min_samples_leaf=8, min_samples_split=2; total time=   0.0s\n",
      "[CV] END ccp_alpha=0.1, max_features=sqrt, min_samples_leaf=8, min_samples_split=2; total time=   0.0s\n",
      "[CV] END ccp_alpha=0.1, max_features=auto, min_samples_leaf=8, min_samples_split=9; total time=   0.1s\n",
      "[CV] END ccp_alpha=0.1, max_features=auto, min_samples_leaf=8, min_samples_split=9; total time=   0.1s\n",
      "[CV] END ccp_alpha=0.1, max_features=auto, min_samples_leaf=8, min_samples_split=9; total time=   0.1s\n",
      "[CV] END ccp_alpha=0.1, max_features=auto, min_samples_leaf=8, min_samples_split=9; total time=   0.1s\n",
      "[CV] END ccp_alpha=0.1, max_features=auto, min_samples_leaf=8, min_samples_split=9; total time=   0.1s\n",
      "[CV] END ccp_alpha=0.0, max_features=log2, min_samples_leaf=1, min_samples_split=1; total time=   0.0s\n",
      "[CV] END ccp_alpha=0.0, max_features=log2, min_samples_leaf=1, min_samples_split=1; total time=   0.0s\n",
      "[CV] END ccp_alpha=0.0, max_features=log2, min_samples_leaf=1, min_samples_split=1; total time=   0.0s\n",
      "[CV] END ccp_alpha=0.0, max_features=log2, min_samples_leaf=1, min_samples_split=1; total time=   0.0s\n",
      "[CV] END ccp_alpha=0.0, max_features=log2, min_samples_leaf=1, min_samples_split=1; total time=   0.0s\n",
      "[CV] END ccp_alpha=0.7, max_features=log2, min_samples_leaf=6, min_samples_split=1; total time=   0.0s\n",
      "[CV] END ccp_alpha=0.7, max_features=log2, min_samples_leaf=6, min_samples_split=1; total time=   0.0s\n",
      "[CV] END ccp_alpha=0.7, max_features=log2, min_samples_leaf=6, min_samples_split=1; total time=   0.0s\n",
      "[CV] END ccp_alpha=0.7, max_features=log2, min_samples_leaf=6, min_samples_split=1; total time=   0.0s\n",
      "[CV] END ccp_alpha=0.7, max_features=log2, min_samples_leaf=6, min_samples_split=1; total time=   0.0s\n",
      "[CV] END ccp_alpha=0.5, max_features=auto, min_samples_leaf=3, min_samples_split=1; total time=   0.0s\n",
      "[CV] END ccp_alpha=0.5, max_features=auto, min_samples_leaf=3, min_samples_split=1; total time=   0.0s\n",
      "[CV] END ccp_alpha=0.5, max_features=auto, min_samples_leaf=3, min_samples_split=1; total time=   0.0s\n",
      "[CV] END ccp_alpha=0.5, max_features=auto, min_samples_leaf=3, min_samples_split=1; total time=   0.0s\n",
      "[CV] END ccp_alpha=0.5, max_features=auto, min_samples_leaf=3, min_samples_split=1; total time=   0.0s\n",
      "[CV] END ccp_alpha=0.1, max_features=log2, min_samples_leaf=6, min_samples_split=5; total time=   0.0s\n",
      "[CV] END ccp_alpha=0.1, max_features=log2, min_samples_leaf=6, min_samples_split=5; total time=   0.0s\n",
      "[CV] END ccp_alpha=0.1, max_features=log2, min_samples_leaf=6, min_samples_split=5; total time=   0.0s\n",
      "[CV] END ccp_alpha=0.1, max_features=log2, min_samples_leaf=6, min_samples_split=5; total time=   0.0s\n",
      "[CV] END ccp_alpha=0.1, max_features=log2, min_samples_leaf=6, min_samples_split=5; total time=   0.0s\n",
      "[CV] END ccp_alpha=0.04, max_features=sqrt, min_samples_leaf=4, min_samples_split=7; total time=   0.0s\n",
      "[CV] END ccp_alpha=0.04, max_features=sqrt, min_samples_leaf=4, min_samples_split=7; total time=   0.0s\n",
      "[CV] END ccp_alpha=0.04, max_features=sqrt, min_samples_leaf=4, min_samples_split=7; total time=   0.0s\n",
      "[CV] END ccp_alpha=0.04, max_features=sqrt, min_samples_leaf=4, min_samples_split=7; total time=   0.0s\n",
      "[CV] END ccp_alpha=0.04, max_features=sqrt, min_samples_leaf=4, min_samples_split=7; total time=   0.0s\n",
      "[CV] END ccp_alpha=0.0, max_features=auto, min_samples_leaf=1, min_samples_split=4; total time=   0.1s\n",
      "[CV] END ccp_alpha=0.0, max_features=auto, min_samples_leaf=1, min_samples_split=4; total time=   0.1s\n",
      "[CV] END ccp_alpha=0.0, max_features=auto, min_samples_leaf=1, min_samples_split=4; total time=   0.1s\n",
      "[CV] END ccp_alpha=0.0, max_features=auto, min_samples_leaf=1, min_samples_split=4; total time=   0.1s\n",
      "[CV] END ccp_alpha=0.0, max_features=auto, min_samples_leaf=1, min_samples_split=4; total time=   0.1s\n",
      "[CV] END ccp_alpha=0.04, max_features=auto, min_samples_leaf=9, min_samples_split=1; total time=   0.0s\n",
      "[CV] END ccp_alpha=0.04, max_features=auto, min_samples_leaf=9, min_samples_split=1; total time=   0.0s\n",
      "[CV] END ccp_alpha=0.04, max_features=auto, min_samples_leaf=9, min_samples_split=1; total time=   0.0s\n",
      "[CV] END ccp_alpha=0.04, max_features=auto, min_samples_leaf=9, min_samples_split=1; total time=   0.0s\n"
     ]
    },
    {
     "name": "stdout",
     "output_type": "stream",
     "text": [
      "[CV] END ccp_alpha=0.04, max_features=auto, min_samples_leaf=9, min_samples_split=1; total time=   0.0s\n",
      "[CV] END ccp_alpha=0.3, max_features=auto, min_samples_leaf=2, min_samples_split=7; total time=   0.1s\n",
      "[CV] END ccp_alpha=0.3, max_features=auto, min_samples_leaf=2, min_samples_split=7; total time=   0.1s\n",
      "[CV] END ccp_alpha=0.3, max_features=auto, min_samples_leaf=2, min_samples_split=7; total time=   0.1s\n",
      "[CV] END ccp_alpha=0.3, max_features=auto, min_samples_leaf=2, min_samples_split=7; total time=   0.1s\n",
      "[CV] END ccp_alpha=0.3, max_features=auto, min_samples_leaf=2, min_samples_split=7; total time=   0.1s\n",
      "[CV] END ccp_alpha=0.01, max_features=sqrt, min_samples_leaf=3, min_samples_split=2; total time=   0.0s\n",
      "[CV] END ccp_alpha=0.01, max_features=sqrt, min_samples_leaf=3, min_samples_split=2; total time=   0.0s\n",
      "[CV] END ccp_alpha=0.01, max_features=sqrt, min_samples_leaf=3, min_samples_split=2; total time=   0.0s\n",
      "[CV] END ccp_alpha=0.01, max_features=sqrt, min_samples_leaf=3, min_samples_split=2; total time=   0.0s\n",
      "[CV] END ccp_alpha=0.01, max_features=sqrt, min_samples_leaf=3, min_samples_split=2; total time=   0.0s\n"
     ]
    },
    {
     "data": {
      "text/plain": [
       "RandomizedSearchCV(cv=5, estimator=DecisionTreeRegressor(), n_iter=100,\n",
       "                   param_distributions={'ccp_alpha': [0.0, 0.01, 0.04, 0.06,\n",
       "                                                      0.08, 0.1, 0.3, 0.5,\n",
       "                                                      0.7],\n",
       "                                        'max_features': ['auto', 'sqrt',\n",
       "                                                         'log2'],\n",
       "                                        'min_samples_leaf': [1, 2, 3, 4, 5, 6,\n",
       "                                                             7, 8, 9],\n",
       "                                        'min_samples_split': [1, 2, 3, 4, 5, 6,\n",
       "                                                              7, 8, 9]},\n",
       "                   scoring='neg_mean_squared_log_error', verbose=2)"
      ]
     },
     "execution_count": 55,
     "metadata": {},
     "output_type": "execute_result"
    }
   ],
   "source": [
    "from sklearn.model_selection import RandomizedSearchCV\n",
    "\n",
    "randomized= RandomizedSearchCV( DecisionTreeRegressor(),\n",
    "                                params,\n",
    "                                n_iter=100,\n",
    "                                scoring='neg_mean_squared_log_error',\n",
    "                                cv=5,\n",
    "                                verbose=2 )\n",
    "randomized.fit(X_train,y_train)"
   ]
  },
  {
   "cell_type": "code",
   "execution_count": 56,
   "metadata": {},
   "outputs": [
    {
     "data": {
      "text/plain": [
       "{'min_samples_split': 8,\n",
       " 'min_samples_leaf': 2,\n",
       " 'max_features': 'log2',\n",
       " 'ccp_alpha': 0.3}"
      ]
     },
     "execution_count": 56,
     "metadata": {},
     "output_type": "execute_result"
    }
   ],
   "source": [
    "randomized.best_params_"
   ]
  },
  {
   "cell_type": "code",
   "execution_count": 57,
   "metadata": {},
   "outputs": [
    {
     "data": {
      "text/plain": [
       "DecisionTreeRegressor(ccp_alpha=0.3, max_features='log2', min_samples_leaf=2,\n",
       "                      min_samples_split=8)"
      ]
     },
     "execution_count": 57,
     "metadata": {},
     "output_type": "execute_result"
    }
   ],
   "source": [
    "randomized.best_estimator_"
   ]
  },
  {
   "cell_type": "markdown",
   "metadata": {},
   "source": [
    "* __It's giving some best parameters for DecisionTree model which can make our model performance better.__ "
   ]
  },
  {
   "cell_type": "markdown",
   "metadata": {},
   "source": [
    "### Step 8: Finally Model performance"
   ]
  },
  {
   "cell_type": "code",
   "execution_count": 58,
   "metadata": {},
   "outputs": [],
   "source": [
    "model= DecisionTreeRegressor( min_samples_split= 4,\n",
    "                              min_samples_leaf= 2,\n",
    "                              max_features='auto',\n",
    "                              ccp_alpha= 0.3 \n",
    "                            )\n",
    "model.fit(X_train,y_train)\n",
    "y_pred=model.predict(X_valid)"
   ]
  },
  {
   "cell_type": "markdown",
   "metadata": {},
   "source": [
    "__MSLE__"
   ]
  },
  {
   "cell_type": "code",
   "execution_count": 59,
   "metadata": {},
   "outputs": [],
   "source": [
    "y_pred[y_pred<0]=0"
   ]
  },
  {
   "cell_type": "code",
   "execution_count": 60,
   "metadata": {},
   "outputs": [
    {
     "name": "stdout",
     "output_type": "stream",
     "text": [
      "Mean Squared Log Error: 0.11711379823277991\n"
     ]
    }
   ],
   "source": [
    "MSLE= metrics.mean_squared_log_error(y_valid,y_pred)\n",
    "print(\"Mean Squared Log Error:\",MSLE)"
   ]
  },
  {
   "cell_type": "markdown",
   "metadata": {},
   "source": [
    "* __Validation Set MSLE score is around 0.12 from this Decision Tree model__\n",
    "* __This less error means our model is performing well.__"
   ]
  },
  {
   "cell_type": "code",
   "execution_count": 61,
   "metadata": {},
   "outputs": [],
   "source": [
    "submission = pd.read_csv('C:/Users/virendra/Downloads/Class Recordings/First_Model/SAMPLE.csv')\n",
    "final_predictions = model.predict(test)"
   ]
  },
  {
   "cell_type": "code",
   "execution_count": 64,
   "metadata": {},
   "outputs": [],
   "source": [
    "submission['Sales'] = final_predictions"
   ]
  },
  {
   "cell_type": "code",
   "execution_count": null,
   "metadata": {},
   "outputs": [],
   "source": [
    "#only positive predictions for the target variable\n",
    "submission['Sales'] = submission['Sales'].apply(lambda x: 0 if x<0 else abs(x))\n",
    "submission.to_csv('MY_Submission.csv', index=False)"
   ]
  },
  {
   "cell_type": "code",
   "execution_count": 66,
   "metadata": {},
   "outputs": [
    {
     "data": {
      "text/plain": [
       "count    22265.000000\n",
       "mean     43343.444385\n",
       "std      13886.613510\n",
       "min      16810.451503\n",
       "25%      33431.496269\n",
       "50%      41848.284097\n",
       "75%      51829.619482\n",
       "max      78182.624023\n",
       "Name: Sales, dtype: float64"
      ]
     },
     "execution_count": 66,
     "metadata": {},
     "output_type": "execute_result"
    }
   ],
   "source": [
    "submission['Sales'].describe()"
   ]
  },
  {
   "cell_type": "code",
   "execution_count": null,
   "metadata": {},
   "outputs": [],
   "source": []
  }
 ],
 "metadata": {
  "kernelspec": {
   "display_name": "Python 3",
   "language": "python",
   "name": "python3"
  },
  "language_info": {
   "codemirror_mode": {
    "name": "ipython",
    "version": 3
   },
   "file_extension": ".py",
   "mimetype": "text/x-python",
   "name": "python",
   "nbconvert_exporter": "python",
   "pygments_lexer": "ipython3",
   "version": "3.8.5"
  }
 },
 "nbformat": 4,
 "nbformat_minor": 4
}
